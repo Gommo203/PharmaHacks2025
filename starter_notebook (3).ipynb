{
  "cells": [
    {
      "cell_type": "code",
      "execution_count": null,
      "metadata": {
        "colab": {
          "base_uri": "https://localhost:8080/"
        },
        "id": "b2Cr2zOcDXcy",
        "outputId": "0b4ffac9-7ca4-4fae-e7a3-263f586aff20"
      },
      "outputs": [
        {
          "name": "stdout",
          "output_type": "stream",
          "text": [
            "Requirement already satisfied: gdown in /usr/local/lib/python3.11/dist-packages (5.2.0)\n",
            "Requirement already satisfied: beautifulsoup4 in /usr/local/lib/python3.11/dist-packages (from gdown) (4.13.3)\n",
            "Requirement already satisfied: filelock in /usr/local/lib/python3.11/dist-packages (from gdown) (3.17.0)\n",
            "Requirement already satisfied: requests[socks] in /usr/local/lib/python3.11/dist-packages (from gdown) (2.32.3)\n",
            "Requirement already satisfied: tqdm in /usr/local/lib/python3.11/dist-packages (from gdown) (4.67.1)\n",
            "Requirement already satisfied: soupsieve>1.2 in /usr/local/lib/python3.11/dist-packages (from beautifulsoup4->gdown) (2.6)\n",
            "Requirement already satisfied: typing-extensions>=4.0.0 in /usr/local/lib/python3.11/dist-packages (from beautifulsoup4->gdown) (4.12.2)\n",
            "Requirement already satisfied: charset-normalizer<4,>=2 in /usr/local/lib/python3.11/dist-packages (from requests[socks]->gdown) (3.4.1)\n",
            "Requirement already satisfied: idna<4,>=2.5 in /usr/local/lib/python3.11/dist-packages (from requests[socks]->gdown) (3.10)\n",
            "Requirement already satisfied: urllib3<3,>=1.21.1 in /usr/local/lib/python3.11/dist-packages (from requests[socks]->gdown) (2.3.0)\n",
            "Requirement already satisfied: certifi>=2017.4.17 in /usr/local/lib/python3.11/dist-packages (from requests[socks]->gdown) (2025.1.31)\n",
            "Requirement already satisfied: PySocks!=1.5.7,>=1.5.6 in /usr/local/lib/python3.11/dist-packages (from requests[socks]->gdown) (1.7.1)\n"
          ]
        }
      ],
      "source": [
        "!pip install gdown"
      ]
    },
    {
      "cell_type": "code",
      "execution_count": 1,
      "metadata": {
        "id": "jILmCZue4ERE"
      },
      "outputs": [],
      "source": [
        "import numpy as np\n",
        "import seaborn as sns\n",
        "import matplotlib.pyplot as plt\n",
        "import pandas as pd\n",
        "import copy\n",
        "import gdown"
      ]
    },
    {
      "cell_type": "code",
      "execution_count": 3,
      "metadata": {
        "colab": {
          "base_uri": "https://localhost:8080/",
          "height": 144
        },
        "id": "9FHIQW9eZQab",
        "outputId": "d8c2fa22-a524-4955-fa33-1e63ec3b8837"
      },
      "outputs": [
        {
          "name": "stderr",
          "output_type": "stream",
          "text": [
            "Downloading...\n",
            "From (original): https://drive.google.com/uc?id=18HCzpRnUzMYwrWJ4k6qnkgqhlLY735NO\n",
            "From (redirected): https://drive.google.com/uc?id=18HCzpRnUzMYwrWJ4k6qnkgqhlLY735NO&confirm=t&uuid=9a570a43-ba74-482e-8781-540a3ac17fea\n",
            "To: c:\\Users\\paolo\\Desktop\\University\\U2 - 2024-2025\\PharmaHacks\\PharmaHacks2025\\data_hackaton_train.data\n",
            "100%|██████████| 242M/242M [00:08<00:00, 28.4MB/s] \n"
          ]
        },
        {
          "data": {
            "text/plain": [
              "'data_hackaton_train.data'"
            ]
          },
          "execution_count": 3,
          "metadata": {},
          "output_type": "execute_result"
        }
      ],
      "source": [
        "# from google.colab import drive\n",
        "# drive.mount('/content/drive')\n",
        "\n",
        "gdown.download('https://drive.google.com/uc?id=18HCzpRnUzMYwrWJ4k6qnkgqhlLY735NO', 'data_hackaton_train.data', quiet=False)"
      ]
    },
    {
      "cell_type": "code",
      "execution_count": 5,
      "metadata": {
        "colab": {
          "base_uri": "https://localhost:8080/"
        },
        "id": "CcXGv7ArpKe6",
        "outputId": "78f4bb12-f25c-4d78-a8dc-2e0450283a69"
      },
      "outputs": [
        {
          "data": {
            "text/plain": [
              "(400000, 6)"
            ]
          },
          "execution_count": 5,
          "metadata": {},
          "output_type": "execute_result"
        }
      ],
      "source": [
        "train_df = pd.read_pickle('data_hackaton_train.data')\n",
        "train_df.shape"
      ]
    },
    {
      "cell_type": "code",
      "execution_count": 6,
      "metadata": {
        "colab": {
          "base_uri": "https://localhost:8080/",
          "height": 579
        },
        "id": "KJljW9OpD8Gx",
        "outputId": "794ea892-4717-4c40-f92e-810d48f48936"
      },
      "outputs": [
        {
          "data": {
            "text/html": [
              "<div>\n",
              "<style scoped>\n",
              "    .dataframe tbody tr th:only-of-type {\n",
              "        vertical-align: middle;\n",
              "    }\n",
              "\n",
              "    .dataframe tbody tr th {\n",
              "        vertical-align: top;\n",
              "    }\n",
              "\n",
              "    .dataframe thead th {\n",
              "        text-align: right;\n",
              "    }\n",
              "</style>\n",
              "<table border=\"1\" class=\"dataframe\">\n",
              "  <thead>\n",
              "    <tr style=\"text-align: right;\">\n",
              "      <th></th>\n",
              "      <th>start</th>\n",
              "      <th>moves</th>\n",
              "      <th>steps</th>\n",
              "      <th>solution</th>\n",
              "      <th>score</th>\n",
              "      <th>accepted_pair</th>\n",
              "    </tr>\n",
              "  </thead>\n",
              "  <tbody>\n",
              "    <tr>\n",
              "      <th>269056</th>\n",
              "      <td>[TAAGT---, AAGTT---, AAGCT---, CCCGT---, AATAT...</td>\n",
              "      <td>[B0+;3077, C0+;528, E0+;1132, F4+;4288, D4+;14...</td>\n",
              "      <td>[(2, 0), (3, 0), (5, 0), (6, 4), (4, 4), (1, 4)]</td>\n",
              "      <td>[TAAG-T, -AAGTT, -AAGCT, CCCG-T, -AATAT, AAAC-T]</td>\n",
              "      <td>18.0</td>\n",
              "      <td>[(T, G), (-, T), (A, C), (A, C), (A, C), (G, T...</td>\n",
              "    </tr>\n",
              "    <tr>\n",
              "      <th>499174</th>\n",
              "      <td>[GCAATT--, GGAACT--, GCAATT--, CCAATC--, CCAGC...</td>\n",
              "      <td>[A3+;10686, B3+;465, D3+;707, C3+;665, F3+;156...</td>\n",
              "      <td>[(1, 3), (2, 3), (4, 3), (3, 3), (6, 3), (5, 5...</td>\n",
              "      <td>[GCA-A-TT, G-GAACT, GCA-A-TT, CC-A-ATC, CCAGC-...</td>\n",
              "      <td>26.0</td>\n",
              "      <td>[(-, C), (C, T), (C, T), (C, G), (A, C), (A, C...</td>\n",
              "    </tr>\n",
              "    <tr>\n",
              "      <th>85143</th>\n",
              "      <td>[TTGA----, TGAG----, AAG-----, GTGA----, TGG--...</td>\n",
              "      <td>[C1+;13838, A0+;8192, D2+;11987]</td>\n",
              "      <td>[(3, 1), (1, 0), (4, 2)]</td>\n",
              "      <td>[-TTGA, TGAG, A-AG, GT-GA, TGG, TCGA]</td>\n",
              "      <td>15.0</td>\n",
              "      <td>[(G, T), (T, G), (A, T), (G, T), (-, T), (-, G...</td>\n",
              "    </tr>\n",
              "    <tr>\n",
              "      <th>260335</th>\n",
              "      <td>[TACCTC------, GAACGC------, GGCAC-------, AGG...</td>\n",
              "      <td>[D0+;9860, F0+;4104, F1+;1535, G0+;3771, I0+;4...</td>\n",
              "      <td>[(4, 0), (6, 0), (6, 1), (7, 0), (9, 0)]</td>\n",
              "      <td>[TACCTC, GAACGC, GGCAC, -AGGTCC, AAAAGC, --GGT...</td>\n",
              "      <td>49.0</td>\n",
              "      <td>[(-, C), (A, C), (A, G), (G, A), (-, T), (-, G...</td>\n",
              "    </tr>\n",
              "    <tr>\n",
              "      <th>338124</th>\n",
              "      <td>[GGAA---, ATAAA--, ATAAA--, GCAC---, TGAA---, ...</td>\n",
              "      <td>[B2+;12844, D2+;1042, C2+;1533, E2+;1442]</td>\n",
              "      <td>[(2, 2), (4, 2), (3, 2), (5, 2)]</td>\n",
              "      <td>[GGAA, AT-AAA, AT-AAA, GC-AC, TG-AA, AATA]</td>\n",
              "      <td>11.0</td>\n",
              "      <td>[(C, T), (C, T), (T, G), (-, T), (A, C), (A, C...</td>\n",
              "    </tr>\n",
              "    <tr>\n",
              "      <th>...</th>\n",
              "      <td>...</td>\n",
              "      <td>...</td>\n",
              "      <td>...</td>\n",
              "      <td>...</td>\n",
              "      <td>...</td>\n",
              "      <td>...</td>\n",
              "    </tr>\n",
              "    <tr>\n",
              "      <th>259178</th>\n",
              "      <td>[TGGC---, TCCC---, CTCC---, CGTA---, GTGT---, ...</td>\n",
              "      <td>[C0+;4072, E0+;1769, C1+;2435, B1+;1018]</td>\n",
              "      <td>[(3, 0), (5, 0), (3, 1), (2, 1)]</td>\n",
              "      <td>[TGGC, T-CCC, --CTCC, CGTA, -GTGT, GGTAG]</td>\n",
              "      <td>12.0</td>\n",
              "      <td>[(A, T), (A, G), (G, A), (T, G), (T, C), (T, G...</td>\n",
              "    </tr>\n",
              "    <tr>\n",
              "      <th>365838</th>\n",
              "      <td>[TCATAGCCT---, TCATAGGGC---, TCAATTTTT---, TCA...</td>\n",
              "      <td>[C2+;16917, D2+;1552, F5+;17050, B5+;11445, A8...</td>\n",
              "      <td>[(3, 2), (4, 2), (6, 5), (2, 5), (1, 8), (5, 8...</td>\n",
              "      <td>[TCATAGCC-T, TCATA-GGGC, TC-AATTTTT, TC-AAGATT...</td>\n",
              "      <td>43.0</td>\n",
              "      <td>[(G, A), (-, C), (T, G), (C, T), (A, C), (-, T...</td>\n",
              "    </tr>\n",
              "    <tr>\n",
              "      <th>131932</th>\n",
              "      <td>[CAGT---, TAGT---, GCTT---, AAGT---, GAGT---, ...</td>\n",
              "      <td>[A0+;11501, B0+;1750]</td>\n",
              "      <td>[(1, 0), (2, 0)]</td>\n",
              "      <td>[-CAGT, -TAGT, GCTT, AAGT, GAGT, GGGC]</td>\n",
              "      <td>15.0</td>\n",
              "      <td>[(G, A), (T, G), (G, A), (A, G), (G, T), (-, C...</td>\n",
              "    </tr>\n",
              "    <tr>\n",
              "      <th>146867</th>\n",
              "      <td>[TTTG---, GAAG---, GAGG---, GATG---, GTT----, ...</td>\n",
              "      <td>[A0+;4807, B1+;3803, C1+;4005, C2+;3369, D2+;2...</td>\n",
              "      <td>[(1, 0), (2, 1), (3, 1), (3, 2), (4, 2), (4, 2...</td>\n",
              "      <td>[-TTTG, GA-AG, G--AGG, GA-TG, GTT, A--A-CC]</td>\n",
              "      <td>19.0</td>\n",
              "      <td>[(-, G), (-, T), (G, T), (A, T), (T, G), (G, T...</td>\n",
              "    </tr>\n",
              "    <tr>\n",
              "      <th>121958</th>\n",
              "      <td>[CCAACTCGT---, TCAACCCGG---, CCAACTCTG---, TCC...</td>\n",
              "      <td>[B0+;7408, D0+;2324, E0+;1337, F0+;1974, A2+;5...</td>\n",
              "      <td>[(2, 0), (4, 0), (5, 0), (6, 0), (1, 2), (3, 2...</td>\n",
              "      <td>[CC--AACTCGT, -TC-AACCCGG, CC--AACTCTG, -TCCCT...</td>\n",
              "      <td>62.0</td>\n",
              "      <td>[(-, C), (C, T), (C, T), (C, G), (A, C), (A, C...</td>\n",
              "    </tr>\n",
              "  </tbody>\n",
              "</table>\n",
              "<p>400000 rows × 6 columns</p>\n",
              "</div>"
            ],
            "text/plain": [
              "                                                    start  \\\n",
              "269056  [TAAGT---, AAGTT---, AAGCT---, CCCGT---, AATAT...   \n",
              "499174  [GCAATT--, GGAACT--, GCAATT--, CCAATC--, CCAGC...   \n",
              "85143   [TTGA----, TGAG----, AAG-----, GTGA----, TGG--...   \n",
              "260335  [TACCTC------, GAACGC------, GGCAC-------, AGG...   \n",
              "338124  [GGAA---, ATAAA--, ATAAA--, GCAC---, TGAA---, ...   \n",
              "...                                                   ...   \n",
              "259178  [TGGC---, TCCC---, CTCC---, CGTA---, GTGT---, ...   \n",
              "365838  [TCATAGCCT---, TCATAGGGC---, TCAATTTTT---, TCA...   \n",
              "131932  [CAGT---, TAGT---, GCTT---, AAGT---, GAGT---, ...   \n",
              "146867  [TTTG---, GAAG---, GAGG---, GATG---, GTT----, ...   \n",
              "121958  [CCAACTCGT---, TCAACCCGG---, CCAACTCTG---, TCC...   \n",
              "\n",
              "                                                    moves  \\\n",
              "269056  [B0+;3077, C0+;528, E0+;1132, F4+;4288, D4+;14...   \n",
              "499174  [A3+;10686, B3+;465, D3+;707, C3+;665, F3+;156...   \n",
              "85143                    [C1+;13838, A0+;8192, D2+;11987]   \n",
              "260335  [D0+;9860, F0+;4104, F1+;1535, G0+;3771, I0+;4...   \n",
              "338124          [B2+;12844, D2+;1042, C2+;1533, E2+;1442]   \n",
              "...                                                   ...   \n",
              "259178           [C0+;4072, E0+;1769, C1+;2435, B1+;1018]   \n",
              "365838  [C2+;16917, D2+;1552, F5+;17050, B5+;11445, A8...   \n",
              "131932                              [A0+;11501, B0+;1750]   \n",
              "146867  [A0+;4807, B1+;3803, C1+;4005, C2+;3369, D2+;2...   \n",
              "121958  [B0+;7408, D0+;2324, E0+;1337, F0+;1974, A2+;5...   \n",
              "\n",
              "                                                    steps  \\\n",
              "269056   [(2, 0), (3, 0), (5, 0), (6, 4), (4, 4), (1, 4)]   \n",
              "499174  [(1, 3), (2, 3), (4, 3), (3, 3), (6, 3), (5, 5...   \n",
              "85143                            [(3, 1), (1, 0), (4, 2)]   \n",
              "260335           [(4, 0), (6, 0), (6, 1), (7, 0), (9, 0)]   \n",
              "338124                   [(2, 2), (4, 2), (3, 2), (5, 2)]   \n",
              "...                                                   ...   \n",
              "259178                   [(3, 0), (5, 0), (3, 1), (2, 1)]   \n",
              "365838  [(3, 2), (4, 2), (6, 5), (2, 5), (1, 8), (5, 8...   \n",
              "131932                                   [(1, 0), (2, 0)]   \n",
              "146867  [(1, 0), (2, 1), (3, 1), (3, 2), (4, 2), (4, 2...   \n",
              "121958  [(2, 0), (4, 0), (5, 0), (6, 0), (1, 2), (3, 2...   \n",
              "\n",
              "                                                 solution  score  \\\n",
              "269056   [TAAG-T, -AAGTT, -AAGCT, CCCG-T, -AATAT, AAAC-T]   18.0   \n",
              "499174  [GCA-A-TT, G-GAACT, GCA-A-TT, CC-A-ATC, CCAGC-...   26.0   \n",
              "85143               [-TTGA, TGAG, A-AG, GT-GA, TGG, TCGA]   15.0   \n",
              "260335  [TACCTC, GAACGC, GGCAC, -AGGTCC, AAAAGC, --GGT...   49.0   \n",
              "338124         [GGAA, AT-AAA, AT-AAA, GC-AC, TG-AA, AATA]   11.0   \n",
              "...                                                   ...    ...   \n",
              "259178          [TGGC, T-CCC, --CTCC, CGTA, -GTGT, GGTAG]   12.0   \n",
              "365838  [TCATAGCC-T, TCATA-GGGC, TC-AATTTTT, TC-AAGATT...   43.0   \n",
              "131932             [-CAGT, -TAGT, GCTT, AAGT, GAGT, GGGC]   15.0   \n",
              "146867        [-TTTG, GA-AG, G--AGG, GA-TG, GTT, A--A-CC]   19.0   \n",
              "121958  [CC--AACTCGT, -TC-AACCCGG, CC--AACTCTG, -TCCCT...   62.0   \n",
              "\n",
              "                                            accepted_pair  \n",
              "269056  [(T, G), (-, T), (A, C), (A, C), (A, C), (G, T...  \n",
              "499174  [(-, C), (C, T), (C, T), (C, G), (A, C), (A, C...  \n",
              "85143   [(G, T), (T, G), (A, T), (G, T), (-, T), (-, G...  \n",
              "260335  [(-, C), (A, C), (A, G), (G, A), (-, T), (-, G...  \n",
              "338124  [(C, T), (C, T), (T, G), (-, T), (A, C), (A, C...  \n",
              "...                                                   ...  \n",
              "259178  [(A, T), (A, G), (G, A), (T, G), (T, C), (T, G...  \n",
              "365838  [(G, A), (-, C), (T, G), (C, T), (A, C), (-, T...  \n",
              "131932  [(G, A), (T, G), (G, A), (A, G), (G, T), (-, C...  \n",
              "146867  [(-, G), (-, T), (G, T), (A, T), (T, G), (G, T...  \n",
              "121958  [(-, C), (C, T), (C, T), (C, G), (A, C), (A, C...  \n",
              "\n",
              "[400000 rows x 6 columns]"
            ]
          },
          "execution_count": 6,
          "metadata": {},
          "output_type": "execute_result"
        }
      ],
      "source": [
        "train_df"
      ]
    },
    {
      "cell_type": "code",
      "execution_count": 7,
      "metadata": {
        "id": "BbrC7fIkOF5l"
      },
      "outputs": [],
      "source": [
        "DICT_SYMBOLS = {\n",
        "    'A': 1,\n",
        "    'T': 2,\n",
        "    'C': 3,\n",
        "    'G': 4}"
      ]
    },
    {
      "cell_type": "code",
      "execution_count": 8,
      "metadata": {
        "id": "ZqdYrirf9LBB"
      },
      "outputs": [],
      "source": [
        "class Puzzle:\n",
        "    def __init__(self, data):\n",
        "        self.start = list(data[\"start\"])\n",
        "        self.moves = copy.deepcopy(data.get(\"moves\"))\n",
        "        self.steps = copy.deepcopy(data.get(\"steps\"))\n",
        "        self.solution = list(data[\"solution\"])\n",
        "        self.score = data[\"score\"]\n",
        "        self.accepted_pair = data[\"accepted_pair\"]\n",
        "\n",
        "        self.padded_start = self.build_puzzle_to_end(self.start)\n",
        "        self.padded_solution = self.build_puzzle_to_end(self.solution)\n",
        "\n",
        "    def build_puzzle_to_end(self, puzzle):\n",
        "        \"\"\"Pad each row with '-' to match the longest row for visualization.\"\"\"\n",
        "        max_len = max(len(row) for row in puzzle)\n",
        "        return [row.ljust(max_len, '-') for row in puzzle]\n",
        "\n",
        "    def plot_puzzle(self, puzzle, title):\n",
        "        puzzle = self.build_puzzle_to_end(puzzle)\n",
        "        num_puzzle = np.array([[DICT_SYMBOLS.get(char, 0) for char in row] for row in puzzle])\n",
        "        rot_num_puzzle = np.rot90(num_puzzle, 1)\n",
        "        puzzle_array = np.array([list(row) for row in puzzle])\n",
        "        rot_labels = np.rot90(puzzle_array, 1)\n",
        "\n",
        "        plt.figure(figsize=(8, 6))\n",
        "        sns.heatmap(rot_num_puzzle, annot=rot_labels, fmt=\"\", cmap=\"Pastel1_r\", cbar=False)\n",
        "        plt.title(title)\n",
        "        plt.axis(\"off\")\n",
        "        plt.show()\n",
        "\n",
        "    def gearbox_score(self, puzzle, bonus=1.15):\n",
        "        consensus = self.accepted_pair\n",
        "        score = 0\n",
        "        for col_ind in range(len(puzzle[0])):\n",
        "            col_bonus = True\n",
        "            col_tot = 0\n",
        "            column_chars = [row[col_ind] for row in puzzle]\n",
        "            for char in column_chars:\n",
        "                if char == \"-\":\n",
        "                    col_bonus = False\n",
        "                    continue\n",
        "                if char in consensus[col_ind]:\n",
        "                    col_tot += 1\n",
        "                else:\n",
        "                    col_bonus = False\n",
        "            column_score = col_tot * bonus if col_bonus else col_tot\n",
        "            score += column_score\n",
        "        print(f\"Total Gearbox Score: {score}\")\n",
        "        return score\n",
        "\n",
        "    def _apply_step_to_puzzle(self, puzzle, step):\n",
        "        \"\"\"Apply a single step to the puzzle.\"\"\"\n",
        "        new_puzzle = puzzle.copy()\n",
        "        row_index = step[0] - 1\n",
        "        col_index = step[1]\n",
        "        if row_index < 0 or row_index >= len(new_puzzle):\n",
        "            return new_puzzle\n",
        "        row_str = new_puzzle[row_index]\n",
        "        if col_index < 0 or col_index > len(row_str):\n",
        "            return new_puzzle\n",
        "        new_row = row_str[:col_index] + '-' + row_str[col_index:]\n",
        "        new_row = new_row[:len(row_str)]\n",
        "        new_puzzle[row_index] = new_row\n",
        "        return new_puzzle\n",
        "\n",
        "    def apply_all_steps(self):\n",
        "        \"\"\"Apply all steps on a copy of the puzzle and plot states.\"\"\"\n",
        "        current_puzzle = list(self.start)\n",
        "        updated_puzzles = []\n",
        "        scores = []\n",
        "\n",
        "        for step in self.steps:\n",
        "            current_puzzle = self._apply_step_to_puzzle(current_puzzle, step)\n",
        "            padded_current = self.build_puzzle_to_end(current_puzzle)\n",
        "            score = self.gearbox_score(padded_current)\n",
        "            updated_puzzles.append(padded_current)\n",
        "            scores.append(score)\n",
        "\n",
        "        n_steps = len(updated_puzzles)\n",
        "        fig, axes = plt.subplots(1, n_steps, figsize=(4 * n_steps, 6))\n",
        "        if n_steps == 1:\n",
        "            axes = [axes]\n",
        "        for idx, (puzzle_state, score) in enumerate(zip(updated_puzzles, scores)):\n",
        "            num_puzzle = np.array([[DICT_SYMBOLS.get(char, 0) for char in row] for row in puzzle_state])\n",
        "            rot_num_puzzle = np.rot90(num_puzzle, 1)\n",
        "            puzzle_array = np.array([list(row) for row in puzzle_state])\n",
        "            rot_labels = np.rot90(puzzle_array, 1)\n",
        "            ax = axes[idx]\n",
        "            sns.heatmap(rot_num_puzzle, annot=rot_labels, fmt=\"\", cmap=\"Pastel1_r\", cbar=False, ax=ax)\n",
        "            ax.set_title(f\"Step {idx+1}\\nScore: {score}\")\n",
        "            ax.axis(\"off\")\n",
        "        plt.tight_layout()\n",
        "        plt.show()\n",
        "        return current_puzzle"
      ]
    },
    {
      "cell_type": "code",
      "execution_count": 10,
      "metadata": {
        "colab": {
          "base_uri": "https://localhost:8080/"
        },
        "id": "pLBwJLwC9d6s",
        "outputId": "c5face31-8661-4aab-9e39-5cf72dd4f521"
      },
      "outputs": [
        {
          "name": "stdout",
          "output_type": "stream",
          "text": [
            "[('-', 'C'), ('C', 'T'), ('C', 'T'), ('C', 'G'), ('A', 'C'), ('A', 'C'), ('C', 'T'), ('T', 'C'), ('C', 'T'), ('G', 'T'), ('G', 'A'), ('-', 'T')]\n"
          ]
        }
      ],
      "source": [
        "# Create puzzle\n",
        "puzzle_data = {\n",
        "    'start': train_df.iloc[-1]['start'],\n",
        "    'moves': train_df.iloc[-1].get('moves'),\n",
        "    'steps': train_df.iloc[-1].get('steps'),\n",
        "    'solution': train_df.iloc[-1]['solution'],\n",
        "    'score': train_df.iloc[-1]['score'],\n",
        "    'accepted_pair': train_df.iloc[-1]['accepted_pair']\n",
        "}\n",
        "\n",
        "print(puzzle_data[\"accepted_pair\"])\n",
        "puzzle = Puzzle(puzzle_data)"
      ]
    },
    {
      "cell_type": "code",
      "execution_count": 11,
      "metadata": {
        "colab": {
          "base_uri": "https://localhost:8080/",
          "height": 1000
        },
        "id": "OzIL0z2F9iED",
        "outputId": "086a13a9-d39e-477f-cb02-f45988748a3c"
      },
      "outputs": [
        {
          "data": {
            "image/png": "[encoded data removed]",
            "text/plain": [
              "<Figure size 800x600 with 1 Axes>"
            ]
          },
          "metadata": {},
          "output_type": "display_data"
        },
        {
          "data": {
            "image/png": "[encoded data removed]",
            "text/plain": [
              "<Figure size 800x600 with 1 Axes>"
            ]
          },
          "metadata": {},
          "output_type": "display_data"
        }
      ],
      "source": [
        "puzzle.plot_puzzle(puzzle.start, \"Starting Puzzle\")\n",
        "puzzle.plot_puzzle(puzzle.solution, \"Solution Puzzle\")\n"
      ]
    },
    {
      "cell_type": "code",
      "execution_count": 12,
      "metadata": {
        "colab": {
          "base_uri": "https://localhost:8080/",
          "height": 376
        },
        "id": "bk9XELC9-mep",
        "outputId": "ecf2e3f7-acf1-404f-e404-fcc5a21fc401"
      },
      "outputs": [
        {
          "name": "stdout",
          "output_type": "stream",
          "text": [
            "Total Gearbox Score: 33.099999999999994\n",
            "Total Gearbox Score: 37.15\n",
            "Total Gearbox Score: 41.15\n",
            "Total Gearbox Score: 45.14999999999999\n",
            "Total Gearbox Score: 47.14999999999999\n",
            "Total Gearbox Score: 50.14999999999999\n",
            "Total Gearbox Score: 55.249999999999986\n",
            "Total Gearbox Score: 56.249999999999986\n",
            "Total Gearbox Score: 58.249999999999986\n",
            "Total Gearbox Score: 59.249999999999986\n",
            "Total Gearbox Score: 59.19999999999999\n",
            "Total Gearbox Score: 60.19999999999999\n",
            "Total Gearbox Score: 61.19999999999999\n"
          ]
        },
        {
          "data": {
            "image/png": "[encoded data removed]",
            "text/plain": [
              "<Figure size 5200x600 with 13 Axes>"
            ]
          },
          "metadata": {},
          "output_type": "display_data"
        }
      ],
      "source": [
        "updated_puzzle = puzzle.apply_all_steps()"
      ]
    },
    {
      "cell_type": "code",
      "execution_count": 13,
      "metadata": {
        "colab": {
          "base_uri": "https://localhost:8080/"
        },
        "id": "I-yIsRZ9-nfy",
        "outputId": "922a7185-0075-4f49-b440-bd48f2433db3"
      },
      "outputs": [
        {
          "data": {
            "text/plain": [
              "[(2, 0),\n",
              " (4, 0),\n",
              " (5, 0),\n",
              " (6, 0),\n",
              " (1, 2),\n",
              " (3, 2),\n",
              " (7, 2),\n",
              " (1, 3),\n",
              " (2, 3),\n",
              " (3, 3),\n",
              " (5, 3),\n",
              " (6, 3),\n",
              " (7, 3)]"
            ]
          },
          "execution_count": 13,
          "metadata": {},
          "output_type": "execute_result"
        }
      ],
      "source": [
        "puzzle.steps"
      ]
    },
    {
      "cell_type": "code",
      "execution_count": 36,
      "metadata": {},
      "outputs": [],
      "source": [
        "import numpy as np\n",
        "import pandas as pd\n",
        "import matplotlib.pyplot as plt\n",
        "import seaborn as sns\n",
        "import tensorflow as tf\n",
        "from tensorflow import keras\n",
        "from collections import deque\n",
        "import random\n",
        "import copy\n",
        "import time\n",
        "from tqdm import tqdm"
      ]
    },
    {
      "cell_type": "code",
      "execution_count": 37,
      "metadata": {},
      "outputs": [],
      "source": [
        "# Fix random seeds for reproducibility\n",
        "np.random.seed(42)\n",
        "tf.random.set_seed(42)\n",
        "random.seed(42)"
      ]
    },
    {
      "cell_type": "code",
      "execution_count": 38,
      "metadata": {},
      "outputs": [],
      "source": [
        "class MSAEnvironment:\n",
        "    \"\"\"Environment for Multiple Sequence Alignment\"\"\"\n",
        "\n",
        "    def __init__(self, start_sequences, accepted_pairs, puzzle_instance=None):\n",
        "        self.original_sequences = copy.deepcopy(start_sequences)\n",
        "        self.sequences = copy.deepcopy(start_sequences)\n",
        "        self.accepted_pairs = accepted_pairs\n",
        "        self.puzzle_instance = puzzle_instance\n",
        "        self.current_step = 0\n",
        "        self.max_steps = 30  # Can be adjusted based on average steps in training data\n",
        "        self.current_score = self._calculate_score()\n",
        "        self.step_history = []\n",
        "        self.best_score = self.current_score\n",
        "        self.best_sequences = copy.deepcopy(self.sequences)\n",
        "\n",
        "    def reset(self):\n",
        "        \"\"\"Reset the environment to initial state\"\"\"\n",
        "        self.sequences = copy.deepcopy(self.original_sequences)\n",
        "        self.current_step = 0\n",
        "        self.current_score = self._calculate_score()\n",
        "        self.step_history = []\n",
        "        self.best_score = self.current_score\n",
        "        self.best_sequences = copy.deepcopy(self.sequences)\n",
        "        return self._get_state()\n",
        "\n",
        "    def _get_state(self):\n",
        "        \"\"\"Get current state representation of the alignment\"\"\"\n",
        "        # Find the maximum length of all sequences\n",
        "        max_len = max(len(seq) for seq in self.sequences)\n",
        "\n",
        "        # Create a uniform-length representation for all sequences\n",
        "        padded_seqs = []\n",
        "        for seq in self.sequences:\n",
        "            padded_seq = list(seq) + ['-'] * (max_len - len(seq))\n",
        "            padded_seqs.append(padded_seq)\n",
        "\n",
        "        # Convert to numpy array\n",
        "        state = np.zeros((len(self.sequences), max_len, 5))  # 5 for A, T, G, C, -\n",
        "\n",
        "        # One-hot encode\n",
        "        for i, seq in enumerate(padded_seqs):\n",
        "            for j, base in enumerate(seq):\n",
        "                if base == 'A':\n",
        "                    state[i, j, 0] = 1\n",
        "                elif base == 'T':\n",
        "                    state[i, j, 1] = 1\n",
        "                elif base == 'G':\n",
        "                    state[i, j, 2] = 1\n",
        "                elif base == 'C':\n",
        "                    state[i, j, 3] = 1\n",
        "                elif base == '-':\n",
        "                    state[i, j, 4] = 1\n",
        "\n",
        "        return state\n",
        "\n",
        "    def step(self, action):\n",
        "        \"\"\"\n",
        "        Take a step by inserting a gap\n",
        "\n",
        "        Args:\n",
        "            action: Tuple (sequence_index, position) for gap insertion\n",
        "                   sequence_index is 0-based in our environment\n",
        "        \"\"\"\n",
        "        seq_idx, position = action\n",
        "\n",
        "        # Boundary check\n",
        "        if seq_idx < 0 or seq_idx >= len(self.sequences) or position < 0 or position > len(self.sequences[seq_idx]):\n",
        "            return self._get_state(), -10, False, {\"invalid_action\": True}\n",
        "\n",
        "        # Insert gap\n",
        "        self.sequences[seq_idx] = self.sequences[seq_idx][:position] + '-' + self.sequences[seq_idx][position:]\n",
        "\n",
        "        # Calculate new score\n",
        "        new_score = self._calculate_score()\n",
        "\n",
        "        # Reward is the improvement in score\n",
        "        reward = new_score - self.current_score\n",
        "        \n",
        "        # Track best score and sequence\n",
        "        if new_score > self.best_score:\n",
        "            self.best_score = new_score\n",
        "            self.best_sequences = copy.deepcopy(self.sequences)\n",
        "        \n",
        "        self.current_score = new_score\n",
        "\n",
        "        # Update step count\n",
        "        self.current_step += 1\n",
        "        done = self.current_step >= self.max_steps\n",
        "\n",
        "        # Track step history\n",
        "        self.step_history.append((action, reward, self.current_score, done))\n",
        "\n",
        "        return self._get_state(), reward, done, {}\n",
        "\n",
        "    def _calculate_score(self):\n",
        "        \"\"\"Calculate score using the provided function or a simple scoring\"\"\"\n",
        "        if self.puzzle_instance:\n",
        "            # Use the puzzle instance's gearbox_score function\n",
        "            return self.puzzle_instance.gearbox_score(self.sequences)\n",
        "        else:\n",
        "            # Simple scoring: match pairs according to accepted_pairs\n",
        "            score = 0\n",
        "\n",
        "            # Find the max length to iterate through columns\n",
        "            max_len = max(len(seq) for seq in self.sequences)\n",
        "\n",
        "            # Create a padded representation\n",
        "            padded_seqs = []\n",
        "            for seq in self.sequences:\n",
        "                padded_seq = seq + '-' * (max_len - len(seq))\n",
        "                padded_seqs.append(padded_seq)\n",
        "\n",
        "            # Score each column\n",
        "            for col in range(min(max_len, len(self.accepted_pairs))):\n",
        "                column = [seq[col] for seq in padded_seqs]\n",
        "                if all(c == '-' for c in column):\n",
        "                    continue  # Skip all-gap columns\n",
        "\n",
        "                col_bonus = True\n",
        "                col_tot = 0\n",
        "\n",
        "                for i in range(len(column)):\n",
        "                    if column[i] == '-':\n",
        "                        col_bonus = False\n",
        "                        continue\n",
        "                    for j in range(i+1, len(column)):\n",
        "                        if column[j] == '-':\n",
        "                            col_bonus = False\n",
        "                            continue\n",
        "\n",
        "                        # Check if the pair is in accepted_pairs\n",
        "                        pair = (column[i], column[j])\n",
        "                        rev_pair = (column[j], column[i])\n",
        "                        if pair in self.accepted_pairs[col] or rev_pair in self.accepted_pairs[col]:\n",
        "                            col_tot += 1\n",
        "\n",
        "                # Apply column bonus if all characters in column (no gaps)\n",
        "                column_score = col_tot * 1.15 if col_bonus else col_tot\n",
        "                score += column_score\n",
        "\n",
        "            return score\n",
        "\n",
        "    def get_valid_actions(self):\n",
        "        \"\"\"Get all valid actions (sequence_index, position) for the current state\"\"\"\n",
        "        valid_actions = []\n",
        "        for seq_idx in range(len(self.sequences)):\n",
        "            for pos in range(len(self.sequences[seq_idx]) + 1):\n",
        "                valid_actions.append((seq_idx, pos))\n",
        "        return valid_actions\n",
        "\n",
        "    def get_current_alignment(self):\n",
        "        \"\"\"Get the current alignment as a list of strings\"\"\"\n",
        "        return self.sequences\n",
        "    \n",
        "    def get_best_alignment(self):\n",
        "        \"\"\"Get the best alignment found during the episode\"\"\"\n",
        "        return self.best_sequences\n",
        "\n",
        "    def get_score(self):\n",
        "        \"\"\"Get the current score\"\"\"\n",
        "        return self.current_score\n",
        "    \n",
        "    def get_best_score(self):\n",
        "        \"\"\"Get the best score achieved\"\"\"\n",
        "        return self.best_score"
      ]
    },
    {
      "cell_type": "code",
      "execution_count": 39,
      "metadata": {},
      "outputs": [],
      "source": [
        "class FixedDQNAgent:\n",
        "    \"\"\"DQN Agent with fixed input dimensions\"\"\"\n",
        "\n",
        "    def __init__(self, max_seq_num, max_seq_len, learning_rate=0.001):\n",
        "        self.max_seq_num = max_seq_num\n",
        "        self.max_seq_len = max_seq_len\n",
        "        self.input_shape = (max_seq_num, max_seq_len, 5)\n",
        "        self.action_size = max_seq_num * max_seq_len\n",
        "\n",
        "        self.memory = deque(maxlen=10000)\n",
        "        self.gamma = 0.95    # discount factor\n",
        "        self.epsilon = 1.0   # exploration rate\n",
        "        self.epsilon_min = 0.01\n",
        "        self.epsilon_decay = 0.995\n",
        "        self.learning_rate = learning_rate\n",
        "\n",
        "        self.model = self._build_model()\n",
        "        self.target_model = self._build_model()\n",
        "        self.update_target_model()\n",
        "\n",
        "    def _build_model(self):\n",
        "        \"\"\"Build neural network model with fixed dimensions\"\"\"\n",
        "        inputs = keras.layers.Input(shape=self.input_shape)\n",
        "\n",
        "        # Convolutional layers with padding\n",
        "        x = keras.layers.Conv2D(64, (2, 2), padding='same', activation='relu')(inputs)\n",
        "        x = keras.layers.MaxPooling2D(pool_size=(2, 2), padding='same')(x)\n",
        "        x = keras.layers.Conv2D(128, (2, 2), padding='same', activation='relu')(x)\n",
        "        x = keras.layers.MaxPooling2D(pool_size=(2, 2), padding='same')(x)\n",
        "\n",
        "        # Flatten and dense layers\n",
        "        x = keras.layers.Flatten()(x)\n",
        "        x = keras.layers.Dense(256, activation='relu')(x)\n",
        "        outputs = keras.layers.Dense(self.action_size, activation='linear')(x)\n",
        "\n",
        "        model = keras.Model(inputs=inputs, outputs=outputs)\n",
        "        model.compile(loss='mse', optimizer=keras.optimizers.Adam(learning_rate=self.learning_rate))\n",
        "\n",
        "        return model\n",
        "\n",
        "    def update_target_model(self):\n",
        "        \"\"\"Update target model weights with current model weights\"\"\"\n",
        "        self.target_model.set_weights(self.model.get_weights())\n",
        "\n",
        "    def standardize_state(self, state):\n",
        "        \"\"\"Standardize state to fixed dimensions\"\"\"\n",
        "        # Create a zero tensor with our standard shape\n",
        "        standard_state = np.zeros(self.input_shape)\n",
        "\n",
        "        # Copy data up to our maximums\n",
        "        seq_count = min(state.shape[0], self.max_seq_num)\n",
        "        seq_len = min(state.shape[1], self.max_seq_len)\n",
        "\n",
        "        standard_state[:seq_count, :seq_len, :] = state[:seq_count, :seq_len, :]\n",
        "\n",
        "        return standard_state\n",
        "\n",
        "    def remember(self, state, action, reward, next_state, done):\n",
        "        \"\"\"Store experience in replay memory\"\"\"\n",
        "        # Standardize states to fixed dimensions\n",
        "        state = self.standardize_state(state)\n",
        "        next_state = self.standardize_state(next_state)\n",
        "\n",
        "        self.memory.append((state, action, reward, next_state, done))\n",
        "\n",
        "    def act(self, state, valid_actions):\n",
        "        \"\"\"Choose action based on epsilon-greedy policy\"\"\"\n",
        "        # Explore: random action\n",
        "        if np.random.rand() <= self.epsilon:\n",
        "            return random.choice(valid_actions)\n",
        "\n",
        "        # Exploit: best action from model\n",
        "        state = self.standardize_state(state)\n",
        "        state = np.expand_dims(state, axis=0)  # Add batch dimension\n",
        "        q_values = self.model.predict(state, verbose=0)[0]\n",
        "\n",
        "        # Map q values to valid actions\n",
        "        action_values = {}\n",
        "        for action in valid_actions:\n",
        "            seq_idx, pos = action\n",
        "            if seq_idx < self.max_seq_num and pos < self.max_seq_len:\n",
        "                action_idx = seq_idx * self.max_seq_len + pos\n",
        "                if action_idx < self.action_size:\n",
        "                    action_values[action] = q_values[action_idx]\n",
        "\n",
        "        # If no valid actions could be mapped to q-values, pick random\n",
        "        if not action_values:\n",
        "            return random.choice(valid_actions)\n",
        "\n",
        "        # Return action with highest Q-value\n",
        "        return max(action_values, key=action_values.get)\n",
        "\n",
        "    def replay(self, batch_size):\n",
        "        \"\"\"Train model on random batch from memory\"\"\"\n",
        "        if len(self.memory) < batch_size:\n",
        "            return\n",
        "\n",
        "        minibatch = random.sample(self.memory, batch_size)\n",
        "        for state, action, reward, next_state, done in minibatch:\n",
        "            seq_idx, pos = action\n",
        "\n",
        "            # Skip if action is out of bounds\n",
        "            if seq_idx >= self.max_seq_num or pos >= self.max_seq_len:\n",
        "                continue\n",
        "\n",
        "            action_idx = seq_idx * self.max_seq_len + pos\n",
        "\n",
        "            # Skip if action index is out of bounds\n",
        "            if action_idx >= self.action_size:\n",
        "                continue\n",
        "\n",
        "            # Current Q-value\n",
        "            target = reward\n",
        "\n",
        "            if not done:\n",
        "                # Future Q-value from target model\n",
        "                next_q_values = self.target_model.predict(np.expand_dims(next_state, axis=0), verbose=0)[0]\n",
        "                target += self.gamma * np.max(next_q_values)\n",
        "\n",
        "            # Get current Q-values from model\n",
        "            current_q_values = self.model.predict(np.expand_dims(state, axis=0), verbose=0)[0]\n",
        "            current_q_values[action_idx] = target\n",
        "\n",
        "            # Train the model with updated Q-values\n",
        "            self.model.fit(np.expand_dims(state, axis=0), np.expand_dims(current_q_values, axis=0),\n",
        "                          epochs=1, verbose=0)\n",
        "\n",
        "        # Decay epsilon\n",
        "        if self.epsilon > self.epsilon_min:\n",
        "            self.epsilon *= self.epsilon_decay"
      ]
    },
    {
      "cell_type": "code",
      "execution_count": 40,
      "metadata": {},
      "outputs": [],
      "source": [
        "class ExperienceGenerator:\n",
        "    \"\"\"Generate experience tuples from human solutions\"\"\"\n",
        "\n",
        "    def __init__(self, puzzles, puzzle_class):\n",
        "        self.puzzles = puzzles\n",
        "        self.puzzle_class = puzzle_class\n",
        "\n",
        "    def generate_experiences(self, num_samples=1000):\n",
        "        \"\"\"Generate (state, action, reward, next_state, done) tuples from human solutions\"\"\"\n",
        "        experiences = []\n",
        "\n",
        "        # Sample from puzzles\n",
        "        puzzles = self.puzzles.sample(min(num_samples, len(self.puzzles)))\n",
        "\n",
        "        for _, puzzle_data in tqdm(puzzles.iterrows(), total=len(puzzles), desc=\"Generating experiences\"):\n",
        "            # Create puzzle\n",
        "            puzzle = self.puzzle_class(puzzle_data)\n",
        "\n",
        "            # Skip if no steps\n",
        "            if not puzzle.steps:\n",
        "                continue\n",
        "\n",
        "            # Initialize environment with the puzzle instance\n",
        "            env = MSAEnvironment(puzzle.start, puzzle.accepted_pair, puzzle_instance=puzzle)\n",
        "            state = env.reset()\n",
        "\n",
        "            # Apply each step and collect experiences\n",
        "            for i, step in enumerate(puzzle.steps):\n",
        "                # Adjust 1-based to 0-based indexing for sequence\n",
        "                adjusted_step = (step[0]-1, step[1])\n",
        "\n",
        "                # Take action and observe result\n",
        "                next_state, reward, done, _ = env.step(adjusted_step)\n",
        "\n",
        "                # Add to experiences\n",
        "                experiences.append((state, adjusted_step, reward, next_state, done))\n",
        "\n",
        "                # Update state\n",
        "                state = next_state\n",
        "\n",
        "                # Break if done\n",
        "                if done:\n",
        "                    break\n",
        "\n",
        "        return experiences"
      ]
    },
    {
      "cell_type": "code",
      "execution_count": 41,
      "metadata": {},
      "outputs": [],
      "source": [
        "def preprocess_data(df):\n",
        "    \"\"\"Preprocess dataframe by converting string representations to Python objects\"\"\"\n",
        "    processed_df = df.copy()\n",
        "\n",
        "    def convert_to_list(string_rep):\n",
        "        # If already a list, return it\n",
        "        if isinstance(string_rep, list):\n",
        "            return string_rep\n",
        "        # Handle lists of strings\n",
        "        if isinstance(string_rep, str) and string_rep.startswith('[') and string_rep.endswith(']'):\n",
        "            elements = string_rep[1:-1].split(', ')\n",
        "            # Clean up the elements\n",
        "            elements = [e.strip(\"'\") for e in elements]\n",
        "            return elements\n",
        "        return string_rep\n",
        "\n",
        "    def parse_steps(steps_string):\n",
        "        # Parse the steps into a list of tuples\n",
        "        if isinstance(steps_string, list):\n",
        "            # If already a list of tuples, return it\n",
        "            if all(isinstance(item, tuple) for item in steps_string):\n",
        "                return steps_string\n",
        "        # Convert string representation to list of tuples\n",
        "        if isinstance(steps_string, str):\n",
        "            steps_string = steps_string.replace('[', '').replace(']', '')\n",
        "            step_tuples = []\n",
        "            for step in steps_string.split(', '):\n",
        "                if step:\n",
        "                    try:\n",
        "                        seq_idx, pos = step.strip('()').split(', ')\n",
        "                        step_tuples.append((int(seq_idx), int(pos)))\n",
        "                    except Exception as e:\n",
        "                        print(f\"Error parsing step: {step} - {e}\")\n",
        "            return step_tuples\n",
        "        return steps_string\n",
        "\n",
        "    def parse_accepted_pairs(pairs_string):\n",
        "        # Parse the accepted pairs into a list of tuples\n",
        "        if isinstance(pairs_string, list):\n",
        "            # If already a list of tuples, return it\n",
        "            if all(isinstance(item, tuple) for item in pairs_string):\n",
        "                return pairs_string\n",
        "        # Convert string representation to list of tuples\n",
        "        if isinstance(pairs_string, str):\n",
        "            pairs_string = pairs_string.replace('[', '').replace(']', '')\n",
        "            pair_tuples = []\n",
        "            for pair in pairs_string.split(', '):\n",
        "                if pair:\n",
        "                    try:\n",
        "                        first, second = pair.strip('()').split(', ')\n",
        "                        pair_tuples.append((first.strip(\"'\"), second.strip(\"'\")))\n",
        "                    except Exception as e:\n",
        "                        print(f\"Error parsing pair: {pair} - {e}\")\n",
        "            return pair_tuples\n",
        "        return pairs_string\n",
        "\n",
        "    # Apply conversions\n",
        "    if 'start' in processed_df.columns:\n",
        "        processed_df['start'] = processed_df['start'].apply(convert_to_list)\n",
        "    if 'solution' in processed_df.columns:\n",
        "        processed_df['solution'] = processed_df['solution'].apply(convert_to_list)\n",
        "    if 'steps' in processed_df.columns:\n",
        "        processed_df['steps'] = processed_df['steps'].apply(parse_steps)\n",
        "    if 'accepted_pair' in processed_df.columns:\n",
        "        processed_df['accepted_pair'] = processed_df['accepted_pair'].apply(parse_accepted_pairs)\n",
        "\n",
        "    return processed_df"
      ]
    },
    {
      "cell_type": "code",
      "execution_count": null,
      "metadata": {},
      "outputs": [
        {
          "name": "stdout",
          "output_type": "stream",
          "text": [
            "Loading data...\n",
            "Training agent...\n",
            "Maximum sequence number: 19, Maximum sequence length: 32\n"
          ]
        },
        {
          "name": "stderr",
          "output_type": "stream",
          "text": [
            "Generating experiences: 100%|██████████| 1000/1000 [00:01<00:00, 539.45it/s]\n"
          ]
        },
        {
          "name": "stdout",
          "output_type": "stream",
          "text": [
            "Generated 11916 experiences\n",
            "Epoch 1/20\n",
            "  Epsilon: 0.9950\n",
            "Epoch 2/20\n",
            "Epoch 3/20\n",
            "Epoch 4/20\n",
            "Epoch 5/20\n",
            "Epoch 6/20\n",
            "  Epsilon: 0.9704\n",
            "Epoch 7/20\n",
            "Epoch 8/20\n",
            "Epoch 9/20\n",
            "Epoch 10/20\n",
            "Epoch 11/20\n",
            "  Epsilon: 0.9464\n",
            "Epoch 12/20\n",
            "Epoch 13/20\n",
            "Epoch 14/20\n",
            "Epoch 15/20\n",
            "Epoch 16/20\n",
            "  Epsilon: 0.9229\n",
            "Epoch 17/20\n",
            "Epoch 18/20\n",
            "Epoch 19/20\n",
            "Epoch 20/20\n",
            "Evaluating on test data...\n",
            "Attempting to load test data file...\n",
            "Test data file not found, using a holdout set from training data instead...\n",
            "Making predictions...\n"
          ]
        },
        {
          "name": "stderr",
          "output_type": "stream",
          "text": [
            "  0%|          | 0/100 [00:00<?, ?it/s]"
          ]
        },
        {
          "name": "stdout",
          "output_type": "stream",
          "text": [
            "Processing test example 72389...\n"
          ]
        },
        {
          "name": "stderr",
          "output_type": "stream",
          "text": [
            "  1%|          | 1/100 [00:00<00:20,  4.86it/s]"
          ]
        },
        {
          "name": "stdout",
          "output_type": "stream",
          "text": [
            "  Final score: 0.0\n",
            "Processing test example 67491...\n",
            "  Final score: 0.0\n",
            "Processing test example 231865...\n",
            "  Final score: 0.0\n"
          ]
        },
        {
          "name": "stderr",
          "output_type": "stream",
          "text": [
            "  3%|▎         | 3/100 [00:00<00:12,  7.87it/s]"
          ]
        },
        {
          "name": "stdout",
          "output_type": "stream",
          "text": [
            "Processing test example 456918...\n"
          ]
        },
        {
          "name": "stderr",
          "output_type": "stream",
          "text": [
            "  5%|▌         | 5/100 [00:00<00:16,  5.60it/s]"
          ]
        },
        {
          "name": "stdout",
          "output_type": "stream",
          "text": [
            "  Early stopping: repetitive actions\n",
            "  Final score: 0.0\n",
            "Processing test example 395777...\n",
            "  Final score: 0.0\n",
            "Processing test example 136464...\n"
          ]
        },
        {
          "name": "stderr",
          "output_type": "stream",
          "text": [
            "  6%|▌         | 6/100 [00:00<00:14,  6.48it/s]"
          ]
        },
        {
          "name": "stdout",
          "output_type": "stream",
          "text": [
            "  Final score: 0.0\n",
            "Processing test example 383547...\n",
            "  Final score: 0.0\n",
            "Processing test example 79025...\n",
            "  Final score: 0.0\n",
            "Processing test example 416443...\n"
          ]
        },
        {
          "name": "stderr",
          "output_type": "stream",
          "text": [
            "  9%|▉         | 9/100 [00:01<00:09,  9.63it/s]"
          ]
        },
        {
          "name": "stdout",
          "output_type": "stream",
          "text": [
            "  Final score: 0.0\n",
            "Processing test example 40677...\n",
            "  Final score: 0.0\n",
            "Processing test example 129168...\n"
          ]
        },
        {
          "name": "stderr",
          "output_type": "stream",
          "text": [
            " 12%|█▏        | 12/100 [00:01<00:11,  7.40it/s]"
          ]
        },
        {
          "name": "stdout",
          "output_type": "stream",
          "text": [
            "  Early stopping: repetitive actions\n",
            "  Final score: 0.0\n",
            "Processing test example 260626...\n",
            "  Final score: 0.0\n",
            "Processing test example 44604...\n"
          ]
        },
        {
          "name": "stderr",
          "output_type": "stream",
          "text": [
            " 13%|█▎        | 13/100 [00:01<00:12,  6.69it/s]"
          ]
        },
        {
          "name": "stdout",
          "output_type": "stream",
          "text": [
            "  Final score: 0.0\n",
            "Processing test example 253221...\n"
          ]
        },
        {
          "name": "stderr",
          "output_type": "stream",
          "text": [
            " 14%|█▍        | 14/100 [00:02<00:16,  5.10it/s]"
          ]
        },
        {
          "name": "stdout",
          "output_type": "stream",
          "text": [
            "  Early stopping: repetitive actions\n",
            "  Final score: 0.0\n",
            "Processing test example 48582...\n",
            "  Final score: 0.0\n",
            "Processing test example 113593...\n",
            "  Final score: 0.0\n",
            "Processing test example 292318...\n"
          ]
        },
        {
          "name": "stderr",
          "output_type": "stream",
          "text": [
            " 17%|█▋        | 17/100 [00:02<00:11,  7.09it/s]"
          ]
        },
        {
          "name": "stdout",
          "output_type": "stream",
          "text": [
            "  Final score: 0.0\n",
            "Processing test example 163524...\n"
          ]
        },
        {
          "name": "stderr",
          "output_type": "stream",
          "text": [
            " 19%|█▉        | 19/100 [00:02<00:12,  6.28it/s]"
          ]
        },
        {
          "name": "stdout",
          "output_type": "stream",
          "text": [
            "  Final score: 0.0\n",
            "Processing test example 410568...\n",
            "  Final score: 0.0\n",
            "Processing test example 144844...\n",
            "  Final score: 0.0\n",
            "Processing test example 419899...\n"
          ]
        },
        {
          "name": "stderr",
          "output_type": "stream",
          "text": [
            " 21%|██        | 21/100 [00:02<00:09,  8.42it/s]"
          ]
        },
        {
          "name": "stdout",
          "output_type": "stream",
          "text": [
            "  Final score: 0.0\n",
            "Processing test example 202918...\n",
            "  Final score: 0.0\n",
            "Processing test example 135973...\n"
          ]
        },
        {
          "name": "stderr",
          "output_type": "stream",
          "text": [
            " 24%|██▍       | 24/100 [00:03<00:10,  7.38it/s]"
          ]
        },
        {
          "name": "stdout",
          "output_type": "stream",
          "text": [
            "  Final score: 0.0\n",
            "Processing test example 479444...\n",
            "  Final score: 0.0\n",
            "Processing test example 16977...\n"
          ]
        },
        {
          "name": "stderr",
          "output_type": "stream",
          "text": [
            " 26%|██▌       | 26/100 [00:03<00:11,  6.43it/s]"
          ]
        },
        {
          "name": "stdout",
          "output_type": "stream",
          "text": [
            "  Early stopping: repetitive actions\n",
            "  Final score: 0.0\n",
            "Processing test example 377765...\n",
            "  Final score: 0.0\n",
            "Processing test example 3184...\n"
          ]
        },
        {
          "name": "stderr",
          "output_type": "stream",
          "text": [
            " 27%|██▋       | 27/100 [00:03<00:10,  6.93it/s]"
          ]
        },
        {
          "name": "stdout",
          "output_type": "stream",
          "text": [
            "  Final score: 0.0\n",
            "Processing test example 150827...\n",
            "  Final score: 0.0\n",
            "Processing test example 279667...\n",
            "  Final score: 0.0\n"
          ]
        },
        {
          "name": "stderr",
          "output_type": "stream",
          "text": [
            " 31%|███       | 31/100 [00:04<00:07,  9.24it/s]"
          ]
        },
        {
          "name": "stdout",
          "output_type": "stream",
          "text": [
            "Processing test example 448917...\n",
            "  Final score: 0.0\n",
            "Processing test example 130292...\n",
            "  Final score: 0.0\n",
            "Processing test example 218981...\n"
          ]
        },
        {
          "name": "stderr",
          "output_type": "stream",
          "text": [
            " 32%|███▏      | 32/100 [00:04<00:07,  8.61it/s]"
          ]
        },
        {
          "name": "stdout",
          "output_type": "stream",
          "text": [
            "  Final score: 0.0\n",
            "Processing test example 259936...\n"
          ]
        },
        {
          "name": "stderr",
          "output_type": "stream",
          "text": [
            " 34%|███▍      | 34/100 [00:04<00:09,  6.63it/s]"
          ]
        },
        {
          "name": "stdout",
          "output_type": "stream",
          "text": [
            "  Early stopping: repetitive actions\n",
            "  Final score: 0.0\n",
            "Processing test example 334870...\n",
            "  Final score: 0.0\n",
            "Processing test example 151779...\n"
          ]
        },
        {
          "name": "stderr",
          "output_type": "stream",
          "text": [
            " 36%|███▌      | 36/100 [00:05<00:09,  6.79it/s]"
          ]
        },
        {
          "name": "stdout",
          "output_type": "stream",
          "text": [
            "  Final score: 0.0\n",
            "Processing test example 454130...\n",
            "  Final score: 0.0\n",
            "Processing test example 293406...\n"
          ]
        },
        {
          "name": "stderr",
          "output_type": "stream",
          "text": [
            " 37%|███▋      | 37/100 [00:05<00:08,  7.42it/s]"
          ]
        },
        {
          "name": "stdout",
          "output_type": "stream",
          "text": [
            "  Final score: 0.0\n",
            "Processing test example 167933...\n",
            "  Final score: 0.0\n",
            "Processing test example 247797...\n"
          ]
        },
        {
          "name": "stderr",
          "output_type": "stream",
          "text": [
            " 40%|████      | 40/100 [00:05<00:08,  6.73it/s]"
          ]
        },
        {
          "name": "stdout",
          "output_type": "stream",
          "text": [
            "  Final score: 0.0\n",
            "Processing test example 314782...\n",
            "  Final score: 0.0\n",
            "Processing test example 132804...\n"
          ]
        },
        {
          "name": "stderr",
          "output_type": "stream",
          "text": [
            " 42%|████▏     | 42/100 [00:05<00:06,  8.47it/s]"
          ]
        },
        {
          "name": "stdout",
          "output_type": "stream",
          "text": [
            "  Final score: 0.0\n",
            "Processing test example 388793...\n",
            "  Final score: 0.0\n",
            "Processing test example 255232...\n",
            "  Final score: 0.0\n"
          ]
        },
        {
          "name": "stderr",
          "output_type": "stream",
          "text": [
            " 43%|████▎     | 43/100 [00:06<00:06,  8.72it/s]"
          ]
        },
        {
          "name": "stdout",
          "output_type": "stream",
          "text": [
            "Processing test example 405332...\n",
            "  Final score: 0.0\n",
            "Processing test example 389173...\n"
          ]
        },
        {
          "name": "stderr",
          "output_type": "stream",
          "text": [
            " 46%|████▌     | 46/100 [00:06<00:07,  7.50it/s]"
          ]
        },
        {
          "name": "stdout",
          "output_type": "stream",
          "text": [
            "  Final score: 0.0\n",
            "Processing test example 476030...\n",
            "  Final score: 0.0\n",
            "Processing test example 418568...\n"
          ]
        },
        {
          "name": "stderr",
          "output_type": "stream",
          "text": [
            " 47%|████▋     | 47/100 [00:06<00:06,  7.76it/s]"
          ]
        },
        {
          "name": "stdout",
          "output_type": "stream",
          "text": [
            "  Final score: 0.0\n",
            "Processing test example 37191...\n"
          ]
        },
        {
          "name": "stderr",
          "output_type": "stream",
          "text": [
            " 49%|████▉     | 49/100 [00:06<00:06,  7.30it/s]"
          ]
        },
        {
          "name": "stdout",
          "output_type": "stream",
          "text": [
            "  Final score: 0.0\n",
            "Processing test example 345677...\n",
            "  Final score: 0.0\n",
            "Processing test example 382956...\n",
            "  Final score: 0.0\n",
            "Processing test example 174530...\n"
          ]
        },
        {
          "name": "stderr",
          "output_type": "stream",
          "text": [
            " 52%|█████▏    | 52/100 [00:07<00:06,  7.74it/s]"
          ]
        },
        {
          "name": "stdout",
          "output_type": "stream",
          "text": [
            "  Final score: 0.0\n",
            "Processing test example 107891...\n",
            "  Final score: 0.0\n",
            "Processing test example 227486...\n"
          ]
        },
        {
          "name": "stderr",
          "output_type": "stream",
          "text": [
            " 53%|█████▎    | 53/100 [00:07<00:05,  8.06it/s]"
          ]
        },
        {
          "name": "stdout",
          "output_type": "stream",
          "text": [
            "  Final score: 0.0\n",
            "Processing test example 355811...\n",
            "  Final score: 0.0\n",
            "Processing test example 42146...\n"
          ]
        },
        {
          "name": "stderr",
          "output_type": "stream",
          "text": [
            " 56%|█████▌    | 56/100 [00:07<00:05,  7.71it/s]"
          ]
        },
        {
          "name": "stdout",
          "output_type": "stream",
          "text": [
            "  Final score: 0.0\n",
            "Processing test example 210331...\n",
            "  Final score: 0.0\n",
            "Processing test example 189831...\n"
          ]
        },
        {
          "name": "stderr",
          "output_type": "stream",
          "text": [
            " 58%|█████▊    | 58/100 [00:07<00:04,  9.78it/s]"
          ]
        },
        {
          "name": "stdout",
          "output_type": "stream",
          "text": [
            "  Final score: 0.0\n",
            "Processing test example 141003...\n",
            "  Final score: 0.0\n",
            "Processing test example 316499...\n",
            "  Final score: 0.0\n",
            "Processing test example 409399...\n"
          ]
        },
        {
          "name": "stderr",
          "output_type": "stream",
          "text": [
            " 60%|██████    | 60/100 [00:08<00:05,  7.27it/s]"
          ]
        },
        {
          "name": "stdout",
          "output_type": "stream",
          "text": [
            "  Final score: 0.0\n",
            "Processing test example 313963...\n"
          ]
        },
        {
          "name": "stderr",
          "output_type": "stream",
          "text": [
            " 62%|██████▏   | 62/100 [00:08<00:05,  6.52it/s]"
          ]
        },
        {
          "name": "stdout",
          "output_type": "stream",
          "text": [
            "  Final score: 0.0\n",
            "Processing test example 1018...\n",
            "  Final score: 0.0\n",
            "Processing test example 131403...\n"
          ]
        },
        {
          "name": "stderr",
          "output_type": "stream",
          "text": [
            " 64%|██████▍   | 64/100 [00:08<00:05,  6.94it/s]"
          ]
        },
        {
          "name": "stdout",
          "output_type": "stream",
          "text": [
            "  Final score: 0.0\n",
            "Processing test example 139510...\n",
            "  Final score: 0.0\n",
            "Processing test example 487258...\n",
            "  Final score: 0.0\n",
            "Processing test example 5676...\n"
          ]
        },
        {
          "name": "stderr",
          "output_type": "stream",
          "text": [
            " 68%|██████▊   | 68/100 [00:09<00:03,  9.52it/s]"
          ]
        },
        {
          "name": "stdout",
          "output_type": "stream",
          "text": [
            "  Final score: 0.0\n",
            "Processing test example 465138...\n",
            "  Final score: 0.0\n",
            "Processing test example 263408...\n",
            "  Final score: 0.0\n",
            "Processing test example 365971...\n"
          ]
        },
        {
          "name": "stderr",
          "output_type": "stream",
          "text": [
            " 70%|███████   | 70/100 [00:09<00:03,  7.77it/s]"
          ]
        },
        {
          "name": "stdout",
          "output_type": "stream",
          "text": [
            "  Early stopping: repetitive actions\n",
            "  Final score: 0.0\n",
            "Processing test example 353385...\n",
            "  Final score: 0.0\n",
            "Processing test example 352528...\n"
          ]
        },
        {
          "name": "stderr",
          "output_type": "stream",
          "text": [
            " 71%|███████   | 71/100 [00:09<00:04,  7.05it/s]"
          ]
        },
        {
          "name": "stdout",
          "output_type": "stream",
          "text": [
            "  Early stopping: repetitive actions\n",
            "  Final score: 0.0\n",
            "Processing test example 215471...\n"
          ]
        },
        {
          "name": "stderr",
          "output_type": "stream",
          "text": [
            " 73%|███████▎  | 73/100 [00:10<00:04,  6.52it/s]"
          ]
        },
        {
          "name": "stdout",
          "output_type": "stream",
          "text": [
            "  Early stopping: repetitive actions\n",
            "  Final score: 0.0\n",
            "Processing test example 162133...\n",
            "  Final score: 0.0\n",
            "Processing test example 409187...\n"
          ]
        },
        {
          "name": "stderr",
          "output_type": "stream",
          "text": [
            " 75%|███████▌  | 75/100 [00:10<00:04,  6.02it/s]"
          ]
        },
        {
          "name": "stdout",
          "output_type": "stream",
          "text": [
            "  Final score: 0.0\n",
            "Processing test example 245219...\n",
            "  Final score: 0.0\n",
            "Processing test example 47847...\n"
          ]
        },
        {
          "name": "stderr",
          "output_type": "stream",
          "text": [
            " 77%|███████▋  | 77/100 [00:10<00:03,  6.69it/s]"
          ]
        },
        {
          "name": "stdout",
          "output_type": "stream",
          "text": [
            "  Final score: 0.0\n",
            "Processing test example 99537...\n",
            "  Final score: 0.0\n",
            "Processing test example 466496...\n"
          ]
        },
        {
          "name": "stderr",
          "output_type": "stream",
          "text": [
            " 78%|███████▊  | 78/100 [00:11<00:03,  6.13it/s]"
          ]
        },
        {
          "name": "stdout",
          "output_type": "stream",
          "text": [
            "  Final score: 0.0\n",
            "Processing test example 477802...\n",
            "  Final score: 0.0\n",
            "Processing test example 349221...\n"
          ]
        },
        {
          "name": "stderr",
          "output_type": "stream",
          "text": [
            " 81%|████████  | 81/100 [00:11<00:02,  6.45it/s]"
          ]
        },
        {
          "name": "stdout",
          "output_type": "stream",
          "text": [
            "  Final score: 0.0\n",
            "Processing test example 152867...\n",
            "  Final score: 0.0\n",
            "Processing test example 341383...\n"
          ]
        },
        {
          "name": "stderr",
          "output_type": "stream",
          "text": [
            " 83%|████████▎ | 83/100 [00:11<00:02,  6.20it/s]"
          ]
        },
        {
          "name": "stdout",
          "output_type": "stream",
          "text": [
            "  Final score: 0.0\n",
            "Processing test example 247811...\n",
            "  Final score: 0.0\n",
            "Processing test example 447522...\n"
          ]
        },
        {
          "name": "stderr",
          "output_type": "stream",
          "text": [
            " 85%|████████▌ | 85/100 [00:12<00:02,  6.71it/s]"
          ]
        },
        {
          "name": "stdout",
          "output_type": "stream",
          "text": [
            "  Final score: 0.0\n",
            "Processing test example 136207...\n",
            "  Final score: 0.0\n",
            "Processing test example 436488...\n"
          ]
        },
        {
          "name": "stderr",
          "output_type": "stream",
          "text": [
            " 87%|████████▋ | 87/100 [00:12<00:01,  9.27it/s]"
          ]
        },
        {
          "name": "stdout",
          "output_type": "stream",
          "text": [
            "  Final score: 0.0\n",
            "Processing test example 212175...\n",
            "  Final score: 0.0\n",
            "Processing test example 344560...\n",
            "  Final score: 0.0\n",
            "Processing test example 434912...\n",
            "  Final score: 0.0\n"
          ]
        },
        {
          "name": "stderr",
          "output_type": "stream",
          "text": [
            " 91%|█████████ | 91/100 [00:12<00:00, 11.34it/s]"
          ]
        },
        {
          "name": "stdout",
          "output_type": "stream",
          "text": [
            "Processing test example 163983...\n",
            "  Final score: 0.0\n",
            "Processing test example 28441...\n",
            "  Final score: 0.0\n",
            "Processing test example 102040...\n"
          ]
        },
        {
          "name": "stderr",
          "output_type": "stream",
          "text": [
            " 93%|█████████▎| 93/100 [00:12<00:00, 10.59it/s]"
          ]
        },
        {
          "name": "stdout",
          "output_type": "stream",
          "text": [
            "  Final score: 0.0\n",
            "Processing test example 452190...\n",
            "  Final score: 0.0\n",
            "Processing test example 7935...\n"
          ]
        },
        {
          "name": "stderr",
          "output_type": "stream",
          "text": [
            " 95%|█████████▌| 95/100 [00:12<00:00,  9.66it/s]"
          ]
        },
        {
          "name": "stdout",
          "output_type": "stream",
          "text": [
            "  Early stopping: repetitive actions\n",
            "  Final score: 0.0\n",
            "Processing test example 459759...\n",
            "  Final score: 0.0\n",
            "Processing test example 465113...\n",
            "  Final score: 0.0\n",
            "Processing test example 216512...\n"
          ]
        },
        {
          "name": "stderr",
          "output_type": "stream",
          "text": [
            " 99%|█████████▉| 99/100 [00:13<00:00,  9.14it/s]"
          ]
        },
        {
          "name": "stdout",
          "output_type": "stream",
          "text": [
            "  Final score: 0.0\n",
            "Processing test example 143380...\n",
            "  Final score: 0.0\n",
            "Processing test example 446821...\n",
            "  Final score: 0.0\n",
            "Processing test example 121381...\n"
          ]
        },
        {
          "name": "stderr",
          "output_type": "stream",
          "text": [
            "100%|██████████| 100/100 [00:13<00:00,  7.38it/s]\n"
          ]
        },
        {
          "name": "stdout",
          "output_type": "stream",
          "text": [
            "  Final score: 0.0\n",
            "\n",
            "Done! Summary of predictions:\n",
            "Average score: 0.00\n",
            "Maximum score: 0.00\n",
            "Number of solutions: 100\n",
            "Non-zero scores: 0\n",
            "\n",
            "Sample of predictions:\n",
            "Example 0: Score = 0.0\n",
            "  Steps: []\n",
            "Example 1: Score = 0.0\n",
            "  Steps: []\n",
            "Example 2: Score = 0.0\n",
            "  Steps: []\n"
          ]
        },
        {
          "ename": "ValueError",
          "evalue": "Invalid filepath extension for saving. Please add either a `.keras` extension for the native Keras format (recommended) or a `.h5` extension. Use `tf.saved_model.save()` if you want to export a SavedModel for use with TFLite/TFServing/etc. Received: filepath=msa_rl_model.",
          "output_type": "error",
          "traceback": [
            "\u001b[1;31m---------------------------------------------------------------------------\u001b[0m",
            "\u001b[1;31mValueError\u001b[0m                                Traceback (most recent call last)",
            "Cell \u001b[1;32mIn[35], line 718\u001b[0m\n\u001b[0;32m    714\u001b[0m     \u001b[38;5;28;01mreturn\u001b[39;00m preprocessed_test, agent, scores\n\u001b[0;32m    716\u001b[0m \u001b[38;5;28;01mif\u001b[39;00m \u001b[38;5;18m__name__\u001b[39m \u001b[38;5;241m==\u001b[39m \u001b[38;5;124m\"\u001b[39m\u001b[38;5;124m__main__\u001b[39m\u001b[38;5;124m\"\u001b[39m:\n\u001b[0;32m    717\u001b[0m     \u001b[38;5;66;03m# Run the main function\u001b[39;00m\n\u001b[1;32m--> 718\u001b[0m     test_df, agent, scores \u001b[38;5;241m=\u001b[39m \u001b[43mmain\u001b[49m\u001b[43m(\u001b[49m\u001b[43m)\u001b[49m\n",
            "Cell \u001b[1;32mIn[35], line 711\u001b[0m, in \u001b[0;36mmain\u001b[1;34m()\u001b[0m\n\u001b[0;32m    708\u001b[0m preprocessed_test\u001b[38;5;241m.\u001b[39mto_pickle(\u001b[38;5;124m'\u001b[39m\u001b[38;5;124mtest_with_solutions.pkl\u001b[39m\u001b[38;5;124m'\u001b[39m)\n\u001b[0;32m    710\u001b[0m \u001b[38;5;66;03m# Save model\u001b[39;00m\n\u001b[1;32m--> 711\u001b[0m \u001b[43magent\u001b[49m\u001b[38;5;241;43m.\u001b[39;49m\u001b[43mmodel\u001b[49m\u001b[38;5;241;43m.\u001b[39;49m\u001b[43msave\u001b[49m\u001b[43m(\u001b[49m\u001b[38;5;124;43m'\u001b[39;49m\u001b[38;5;124;43mmsa_rl_model\u001b[39;49m\u001b[38;5;124;43m'\u001b[39;49m\u001b[43m)\u001b[49m\n\u001b[0;32m    713\u001b[0m \u001b[38;5;66;03m# Return test dataframe with solutions\u001b[39;00m\n\u001b[0;32m    714\u001b[0m \u001b[38;5;28;01mreturn\u001b[39;00m preprocessed_test, agent, scores\n",
            "File \u001b[1;32m~\\AppData\\Local\\Packages\\PythonSoftwareFoundation.Python.3.10_qbz5n2kfra8p0\\LocalCache\\local-packages\\Python310\\site-packages\\keras\\src\\utils\\traceback_utils.py:123\u001b[0m, in \u001b[0;36mfilter_traceback.<locals>.error_handler\u001b[1;34m(*args, **kwargs)\u001b[0m\n\u001b[0;32m    120\u001b[0m     filtered_tb \u001b[38;5;241m=\u001b[39m _process_traceback_frames(e\u001b[38;5;241m.\u001b[39m__traceback__)\n\u001b[0;32m    121\u001b[0m     \u001b[38;5;66;03m# To get the full stack trace, call:\u001b[39;00m\n\u001b[0;32m    122\u001b[0m     \u001b[38;5;66;03m# `keras.config.disable_traceback_filtering()`\u001b[39;00m\n\u001b[1;32m--> 123\u001b[0m     \u001b[38;5;28;01mraise\u001b[39;00m e\u001b[38;5;241m.\u001b[39mwith_traceback(filtered_tb) \u001b[38;5;28;01mfrom\u001b[39;00m \u001b[38;5;28;01mNone\u001b[39;00m\n\u001b[0;32m    124\u001b[0m \u001b[38;5;28;01mfinally\u001b[39;00m:\n\u001b[0;32m    125\u001b[0m     \u001b[38;5;28;01mdel\u001b[39;00m filtered_tb\n",
            "File \u001b[1;32m~\\AppData\\Local\\Packages\\PythonSoftwareFoundation.Python.3.10_qbz5n2kfra8p0\\LocalCache\\local-packages\\Python310\\site-packages\\keras\\src\\saving\\saving_api.py:106\u001b[0m, in \u001b[0;36msave_model\u001b[1;34m(model, filepath, overwrite, **kwargs)\u001b[0m\n\u001b[0;32m    102\u001b[0m     legacy_h5_format\u001b[38;5;241m.\u001b[39msave_model_to_hdf5(\n\u001b[0;32m    103\u001b[0m         model, filepath, overwrite, include_optimizer\n\u001b[0;32m    104\u001b[0m     )\n\u001b[0;32m    105\u001b[0m \u001b[38;5;28;01melse\u001b[39;00m:\n\u001b[1;32m--> 106\u001b[0m     \u001b[38;5;28;01mraise\u001b[39;00m \u001b[38;5;167;01mValueError\u001b[39;00m(\n\u001b[0;32m    107\u001b[0m         \u001b[38;5;124m\"\u001b[39m\u001b[38;5;124mInvalid filepath extension for saving. \u001b[39m\u001b[38;5;124m\"\u001b[39m\n\u001b[0;32m    108\u001b[0m         \u001b[38;5;124m\"\u001b[39m\u001b[38;5;124mPlease add either a `.keras` extension for the native Keras \u001b[39m\u001b[38;5;124m\"\u001b[39m\n\u001b[0;32m    109\u001b[0m         \u001b[38;5;124mf\u001b[39m\u001b[38;5;124m\"\u001b[39m\u001b[38;5;124mformat (recommended) or a `.h5` extension. \u001b[39m\u001b[38;5;124m\"\u001b[39m\n\u001b[0;32m    110\u001b[0m         \u001b[38;5;124m\"\u001b[39m\u001b[38;5;124mUse `tf.saved_model.save()` if you want to export a SavedModel \u001b[39m\u001b[38;5;124m\"\u001b[39m\n\u001b[0;32m    111\u001b[0m         \u001b[38;5;124m\"\u001b[39m\u001b[38;5;124mfor use with TFLite/TFServing/etc. \u001b[39m\u001b[38;5;124m\"\u001b[39m\n\u001b[0;32m    112\u001b[0m         \u001b[38;5;124mf\u001b[39m\u001b[38;5;124m\"\u001b[39m\u001b[38;5;124mReceived: filepath=\u001b[39m\u001b[38;5;132;01m{\u001b[39;00mfilepath\u001b[38;5;132;01m}\u001b[39;00m\u001b[38;5;124m.\u001b[39m\u001b[38;5;124m\"\u001b[39m\n\u001b[0;32m    113\u001b[0m     )\n",
            "\u001b[1;31mValueError\u001b[0m: Invalid filepath extension for saving. Please add either a `.keras` extension for the native Keras format (recommended) or a `.h5` extension. Use `tf.saved_model.save()` if you want to export a SavedModel for use with TFLite/TFServing/etc. Received: filepath=msa_rl_model."
          ]
        }
      ],
      "source": [
        "def train_rl_agent(train_data, puzzle_class, num_samples=1000, batch_size=32, epochs=20):\n",
        "    \"\"\"Train a reinforcement learning agent for MSA\"\"\"\n",
        "    # Calculate maximum dimensions from data\n",
        "    max_seq_num = 0\n",
        "    max_seq_len = 0\n",
        "\n",
        "    for _, row in train_data.iterrows():\n",
        "        if isinstance(row['start'], list):\n",
        "            max_seq_num = max(max_seq_num, len(row['start']))\n",
        "            max_seq_len = max(max_seq_len, max(len(seq) for seq in row['start']))\n",
        "\n",
        "    # Add buffer for insertions\n",
        "    max_seq_len = max_seq_len + 20  # Allow for gap insertions\n",
        "\n",
        "    print(f\"Maximum sequence number: {max_seq_num}, Maximum sequence length: {max_seq_len}\")\n",
        "\n",
        "    # Create DQN agent\n",
        "    agent = FixedDQNAgent(max_seq_num, max_seq_len)\n",
        "\n",
        "    # Generate experiences from human solutions\n",
        "    generator = ExperienceGenerator(train_data, puzzle_class)\n",
        "    experiences = generator.generate_experiences(num_samples)\n",
        "\n",
        "    if not experiences:\n",
        "        print(\"No experiences generated!\")\n",
        "        return None\n",
        "\n",
        "    print(f\"Generated {len(experiences)} experiences\")\n",
        "\n",
        "    # Add experiences to agent memory\n",
        "    for state, action, reward, next_state, done in experiences:\n",
        "        agent.remember(state, action, reward, next_state, done)\n",
        "\n",
        "    # Train the agent\n",
        "    for epoch in range(epochs):\n",
        "        print(f\"Epoch {epoch+1}/{epochs}\")\n",
        "        if len(agent.memory) >= batch_size:\n",
        "            agent.replay(batch_size)\n",
        "\n",
        "        # Update target model periodically\n",
        "        if epoch % 5 == 0:\n",
        "            agent.update_target_model()\n",
        "            print(f\"  Epsilon: {agent.epsilon:.4f}\")\n",
        "\n",
        "    return agent\n",
        "\n",
        "def predict_solution(agent, row, max_steps=40, beam_width=3):\n",
        "    \"\"\"Use agent to predict optimal sequence of steps for alignment using beam search\"\"\"\n",
        "    # Create puzzle instance\n",
        "    puzzle = Puzzle(row)\n",
        "    \n",
        "    # Create environment\n",
        "    env = MSAEnvironment(puzzle.start, puzzle.accepted_pair)\n",
        "    state = env.reset()\n",
        "    \n",
        "    # Record initial score\n",
        "    current_sequences = copy.deepcopy(puzzle.start)\n",
        "    current_score = puzzle.gearbox_score(current_sequences)\n",
        "    best_score = current_score\n",
        "    best_solution = current_sequences\n",
        "    best_steps = []\n",
        "    \n",
        "    steps = []\n",
        "    \n",
        "    # Use beam search approach\n",
        "    for _ in range(max_steps):\n",
        "        # Get valid actions\n",
        "        valid_actions = env.get_valid_actions()\n",
        "        \n",
        "        # Choose action using agent\n",
        "        action = agent.act(state, valid_actions)\n",
        "        \n",
        "        # Apply the action\n",
        "        current_sequences = env.sequences\n",
        "        current_sequences[action[0]] = current_sequences[action[0]][:action[1]] + '-' + current_sequences[action[0]][action[1]:]\n",
        "        \n",
        "        # Calculate score using puzzle's gearbox_score\n",
        "        new_score = puzzle.gearbox_score(current_sequences)\n",
        "        \n",
        "        # Store step (convert to 1-based indexing for sequence)\n",
        "        step = (action[0]+1, action[1])\n",
        "        steps.append(step)\n",
        "        \n",
        "        # Update environment\n",
        "        next_state, reward, done, _ = env.step(action)\n",
        "        state = next_state\n",
        "        \n",
        "        # Update best solution if found\n",
        "        if new_score > best_score:\n",
        "            best_score = new_score\n",
        "            best_solution = copy.deepcopy(current_sequences)\n",
        "            best_steps = copy.deepcopy(steps)\n",
        "            print(f\"  Improved score: {best_score}\")\n",
        "        \n",
        "        # Early stopping if no improvement\n",
        "        if len(steps) > 10 and steps[-10:].count(steps[-1]) > 3:\n",
        "            print(\"  Early stopping: repetitive actions\")\n",
        "            break\n",
        "            \n",
        "        if done:\n",
        "            break\n",
        "    \n",
        "    # Return the best solution found\n",
        "    return best_solution, best_steps, best_score"
      ]
    },
    {
      "cell_type": "code",
      "execution_count": null,
      "metadata": {},
      "outputs": [],
      "source": [
        "def main():\n",
        "    \"\"\"Main execution function\"\"\"\n",
        "    print(\"Loading data...\")\n",
        "    train_df = pd.read_pickle('data_hackaton_train.data')\n",
        "    preprocessed_train = preprocess_data(train_df)\n",
        "\n",
        "    print(\"Training agent...\")\n",
        "    # Use a smaller sample for faster training\n",
        "    sample_size = 1000\n",
        "    train_sample = preprocessed_train.sample(n=sample_size, random_state=42)\n",
        "\n",
        "    # Train RL agent\n",
        "    agent = train_rl_agent(train_sample, Puzzle, num_samples=sample_size, batch_size=32, epochs=20)\n",
        "\n",
        "    if agent is None:\n",
        "        print(\"Failed to train agent!\")\n",
        "        return\n",
        "\n",
        "    # Create and evaluate on test data\n",
        "    print(\"Evaluating on test data...\")\n",
        "\n",
        "    try:\n",
        "        # Try to load test data if it exists\n",
        "        print(\"Attempting to load test data file...\")\n",
        "        test_df = pd.read_pickle('data_hackaton_test.data')\n",
        "        preprocessed_test = preprocess_data(test_df)\n",
        "        print(\"Test data loaded successfully!\")\n",
        "    except FileNotFoundError:\n",
        "        # If test file isn't found, use a holdout set from training data\n",
        "        print(\"Test data file not found, using a holdout set from training data instead...\")\n",
        "        # Create a holdout set by selecting examples not used in training\n",
        "        holdout_df = preprocessed_train[~preprocessed_train.index.isin(train_sample.index)].sample(100, random_state=42)\n",
        "        preprocessed_test = holdout_df.copy()\n",
        "        # Add Solutions column if it doesn't exist\n",
        "        if 'Solutions' not in preprocessed_test.columns:\n",
        "            preprocessed_test['Solutions'] = None\n",
        "\n",
        "    # Predict solutions\n",
        "    solutions = []\n",
        "    scores = []\n",
        "    steps_list = []\n",
        "\n",
        "    print(\"Making predictions...\")\n",
        "    # Process all test data\n",
        "    for idx, row in tqdm(preprocessed_test.iterrows(), total=len(preprocessed_test)):\n",
        "        print(f\"Processing test example {idx}...\")\n",
        "        \n",
        "        # Predict solution using beam search\n",
        "        alignment, steps, score = predict_solution(agent, row)\n",
        "        \n",
        "        # Verify score\n",
        "        puzzle = Puzzle(row)\n",
        "        verified_score = puzzle.gearbox_score(alignment)\n",
        "        \n",
        "        # Report any discrepancy\n",
        "        if score != verified_score:\n",
        "            print(f\"  Warning: Score mismatch - reported: {score}, verified: {verified_score}\")\n",
        "            score = verified_score\n",
        "        \n",
        "        solutions.append(alignment)\n",
        "        scores.append(score)\n",
        "        steps_list.append(steps)\n",
        "        \n",
        "        print(f\"  Final score: {score}\")\n",
        "\n",
        "    # Add solutions to test dataframe\n",
        "    preprocessed_test.loc[:, 'Solutions'] = pd.Series(solutions, index=preprocessed_test.index)\n",
        "\n",
        "    print(\"\\nDone! Summary of predictions:\")\n",
        "    avg_score = sum(scores) / len(scores) if scores else 0\n",
        "    max_score = max(scores) if scores else 0\n",
        "    print(f\"Average score: {avg_score:.2f}\")\n",
        "    print(f\"Maximum score: {max_score:.2f}\")\n",
        "    print(f\"Number of solutions: {len(solutions)}\")\n",
        "    print(f\"Non-zero scores: {sum(1 for s in scores if s > 0)}\")\n",
        "\n",
        "    # Sample of predictions\n",
        "    print(\"\\nSample of predictions:\")\n",
        "    for i in range(min(3, len(solutions))):\n",
        "        print(f\"Example {i}: Score = {scores[i]}\")\n",
        "        print(f\"  Steps: {steps_list[i][:3]}{'...' if len(steps_list[i]) > 3 else ''}\")\n",
        "\n",
        "    # Save results\n",
        "    preprocessed_test.to_pickle('test_with_solutions.pkl')\n",
        "    \n",
        "    # Save model\n",
        "    agent.model.save('msa_rl_model')\n",
        "    \n",
        "    # Return test dataframe with solutions\n",
        "    return preprocessed_test, agent, scores"
      ]
    },
    {
      "cell_type": "code",
      "execution_count": 43,
      "metadata": {},
      "outputs": [
        {
          "name": "stdout",
          "output_type": "stream",
          "text": [
            "Loading data...\n",
            "Training agent...\n",
            "Maximum sequence number: 19, Maximum sequence length: 32\n"
          ]
        },
        {
          "name": "stderr",
          "output_type": "stream",
          "text": [
            "Generating experiences: 100%|██████████| 1000/1000 [00:01<00:00, 595.71it/s]\n"
          ]
        },
        {
          "name": "stdout",
          "output_type": "stream",
          "text": [
            "Generated 11916 experiences\n",
            "Epoch 1/20\n",
            "  Epsilon: 0.9950\n",
            "Epoch 2/20\n",
            "Epoch 3/20\n",
            "Epoch 4/20\n",
            "Epoch 5/20\n",
            "Epoch 6/20\n",
            "  Epsilon: 0.9704\n",
            "Epoch 7/20\n",
            "Epoch 8/20\n",
            "Epoch 9/20\n",
            "Epoch 10/20\n",
            "Epoch 11/20\n",
            "  Epsilon: 0.9464\n",
            "Epoch 12/20\n",
            "Epoch 13/20\n",
            "Epoch 14/20\n",
            "Epoch 15/20\n",
            "Epoch 16/20\n",
            "  Epsilon: 0.9229\n",
            "Epoch 17/20\n",
            "Epoch 18/20\n",
            "Epoch 19/20\n",
            "Epoch 20/20\n",
            "Evaluating on test data...\n",
            "Attempting to load test data file...\n",
            "Test data file not found, using a holdout set from training data instead...\n",
            "Making predictions...\n"
          ]
        },
        {
          "name": "stderr",
          "output_type": "stream",
          "text": [
            "  0%|          | 0/100 [00:00<?, ?it/s]"
          ]
        },
        {
          "name": "stdout",
          "output_type": "stream",
          "text": [
            "Processing test example 72389...\n",
            "  Final score: 0.0"
          ]
        },
        {
          "name": "stderr",
          "output_type": "stream",
          "text": [
            "  2%|▏         | 2/100 [00:00<00:14,  6.71it/s]"
          ]
        },
        {
          "name": "stdout",
          "output_type": "stream",
          "text": [
            "\n",
            "Processing test example 67491...\n",
            "  Final score: 0.0\n",
            "Processing test example 231865...\n",
            "  Final score: 0.0"
          ]
        },
        {
          "name": "stderr",
          "output_type": "stream",
          "text": [
            "  3%|▎         | 3/100 [00:00<00:12,  7.81it/s]"
          ]
        },
        {
          "name": "stdout",
          "output_type": "stream",
          "text": [
            "\n",
            "Processing test example 456918...\n"
          ]
        },
        {
          "name": "stderr",
          "output_type": "stream",
          "text": [
            "  5%|▌         | 5/100 [00:00<00:17,  5.45it/s]"
          ]
        },
        {
          "name": "stdout",
          "output_type": "stream",
          "text": [
            "  Early stopping: repetitive actions\n",
            "  Final score: 0.0\n",
            "Processing test example 395777...\n",
            "  Final score: 0.0\n",
            "Processing test example 136464...\n"
          ]
        },
        {
          "name": "stderr",
          "output_type": "stream",
          "text": [
            "  8%|▊         | 8/100 [00:01<00:09,  9.63it/s]"
          ]
        },
        {
          "name": "stdout",
          "output_type": "stream",
          "text": [
            "  Final score: 0.0\n",
            "Processing test example 383547...\n",
            "  Final score: 0.0\n",
            "Processing test example 79025...\n",
            "  Final score: 0.0\n",
            "Processing test example 416443...\n",
            "  Final score: 0.0\n",
            "Processing test example 40677...\n"
          ]
        },
        {
          "name": "stderr",
          "output_type": "stream",
          "text": [
            " 10%|█         | 10/100 [00:01<00:08, 10.16it/s]"
          ]
        },
        {
          "name": "stdout",
          "output_type": "stream",
          "text": [
            "  Final score: 0.0\n",
            "Processing test example 129168...\n"
          ]
        },
        {
          "name": "stderr",
          "output_type": "stream",
          "text": [
            " 12%|█▏        | 12/100 [00:01<00:12,  7.07it/s]"
          ]
        },
        {
          "name": "stdout",
          "output_type": "stream",
          "text": [
            "  Early stopping: repetitive actions\n",
            "  Final score: 0.0\n",
            "Processing test example 260626...\n",
            "  Final score: 0.0\n",
            "Processing test example 44604...\n"
          ]
        },
        {
          "name": "stderr",
          "output_type": "stream",
          "text": [
            " 13%|█▎        | 13/100 [00:01<00:13,  6.41it/s]"
          ]
        },
        {
          "name": "stdout",
          "output_type": "stream",
          "text": [
            "  Final score: 0.0\n",
            "Processing test example 253221...\n"
          ]
        },
        {
          "name": "stderr",
          "output_type": "stream",
          "text": [
            " 14%|█▍        | 14/100 [00:02<00:17,  4.96it/s]"
          ]
        },
        {
          "name": "stdout",
          "output_type": "stream",
          "text": [
            "  Early stopping: repetitive actions\n",
            "  Final score: 0.0\n",
            "Processing test example 48582...\n",
            "  Final score: 0.0\n",
            "Processing test example 113593...\n",
            "  Final score: 0.0\n",
            "Processing test example 292318...\n"
          ]
        },
        {
          "name": "stderr",
          "output_type": "stream",
          "text": [
            " 17%|█▋        | 17/100 [00:02<00:11,  6.95it/s]"
          ]
        },
        {
          "name": "stdout",
          "output_type": "stream",
          "text": [
            "  Final score: 0.0\n",
            "Processing test example 163524...\n"
          ]
        },
        {
          "name": "stderr",
          "output_type": "stream",
          "text": [
            " 19%|█▉        | 19/100 [00:02<00:12,  6.35it/s]"
          ]
        },
        {
          "name": "stdout",
          "output_type": "stream",
          "text": [
            "  Final score: 0.0\n",
            "Processing test example 410568...\n",
            "  Final score: 0.0\n",
            "Processing test example 144844...\n",
            "  Final score: 0.0\n",
            "Processing test example 419899...\n"
          ]
        },
        {
          "name": "stderr",
          "output_type": "stream",
          "text": [
            " 21%|██        | 21/100 [00:03<00:09,  8.41it/s]"
          ]
        },
        {
          "name": "stdout",
          "output_type": "stream",
          "text": [
            "  Final score: 0.0\n",
            "Processing test example 202918...\n",
            "  Final score: 0.0\n",
            "Processing test example 135973...\n"
          ]
        },
        {
          "name": "stderr",
          "output_type": "stream",
          "text": [
            " 24%|██▍       | 24/100 [00:03<00:10,  7.28it/s]"
          ]
        },
        {
          "name": "stdout",
          "output_type": "stream",
          "text": [
            "  Final score: 0.0\n",
            "Processing test example 479444...\n",
            "  Final score: 0.0\n",
            "Processing test example 16977...\n"
          ]
        },
        {
          "name": "stderr",
          "output_type": "stream",
          "text": [
            " 26%|██▌       | 26/100 [00:03<00:11,  6.32it/s]"
          ]
        },
        {
          "name": "stdout",
          "output_type": "stream",
          "text": [
            "  Early stopping: repetitive actions\n",
            "  Final score: 0.0\n",
            "Processing test example 377765...\n",
            "  Final score: 0.0\n",
            "Processing test example 3184...\n"
          ]
        },
        {
          "name": "stderr",
          "output_type": "stream",
          "text": [
            " 27%|██▋       | 27/100 [00:03<00:10,  6.88it/s]"
          ]
        },
        {
          "name": "stdout",
          "output_type": "stream",
          "text": [
            "  Final score: 0.0\n",
            "Processing test example 150827...\n",
            "  Final score: 0.0\n",
            "Processing test example 279667...\n",
            "  Final score: 0.0\n"
          ]
        },
        {
          "name": "stderr",
          "output_type": "stream",
          "text": [
            " 31%|███       | 31/100 [00:04<00:07,  9.05it/s]"
          ]
        },
        {
          "name": "stdout",
          "output_type": "stream",
          "text": [
            "Processing test example 448917...\n",
            "  Final score: 0.0\n",
            "Processing test example 130292...\n",
            "  Final score: 0.0\n",
            "Processing test example 218981...\n"
          ]
        },
        {
          "name": "stderr",
          "output_type": "stream",
          "text": [
            " 32%|███▏      | 32/100 [00:04<00:08,  8.42it/s]"
          ]
        },
        {
          "name": "stdout",
          "output_type": "stream",
          "text": [
            "  Final score: 0.0\n",
            "Processing test example 259936...\n"
          ]
        },
        {
          "name": "stderr",
          "output_type": "stream",
          "text": [
            " 34%|███▍      | 34/100 [00:04<00:09,  6.65it/s]"
          ]
        },
        {
          "name": "stdout",
          "output_type": "stream",
          "text": [
            "  Early stopping: repetitive actions\n",
            "  Final score: 0.0\n",
            "Processing test example 334870...\n",
            "  Final score: 0.0\n",
            "Processing test example 151779...\n"
          ]
        },
        {
          "name": "stderr",
          "output_type": "stream",
          "text": [
            " 36%|███▌      | 36/100 [00:05<00:09,  6.70it/s]"
          ]
        },
        {
          "name": "stdout",
          "output_type": "stream",
          "text": [
            "  Final score: 0.0\n",
            "Processing test example 454130...\n",
            "  Final score: 0.0\n",
            "Processing test example 293406...\n"
          ]
        },
        {
          "name": "stderr",
          "output_type": "stream",
          "text": [
            " 37%|███▋      | 37/100 [00:05<00:08,  7.21it/s]"
          ]
        },
        {
          "name": "stdout",
          "output_type": "stream",
          "text": [
            "  Final score: 0.0\n",
            "Processing test example 167933...\n",
            "  Final score: 0.0\n",
            "Processing test example 247797...\n"
          ]
        },
        {
          "name": "stderr",
          "output_type": "stream",
          "text": [
            " 40%|████      | 40/100 [00:05<00:08,  6.75it/s]"
          ]
        },
        {
          "name": "stdout",
          "output_type": "stream",
          "text": [
            "  Final score: 0.0\n",
            "Processing test example 314782...\n",
            "  Final score: 0.0\n",
            "Processing test example 132804...\n",
            "  Final score: 0.0\n",
            "Processing test example 388793...\n"
          ]
        },
        {
          "name": "stderr",
          "output_type": "stream",
          "text": [
            " 43%|████▎     | 43/100 [00:06<00:06,  8.61it/s]"
          ]
        },
        {
          "name": "stdout",
          "output_type": "stream",
          "text": [
            "  Final score: 0.0\n",
            "Processing test example 255232...\n",
            "  Final score: 0.0\n",
            "Processing test example 405332...\n",
            "  Final score: 0.0\n",
            "Processing test example 389173...\n"
          ]
        },
        {
          "name": "stderr",
          "output_type": "stream",
          "text": [
            " 46%|████▌     | 46/100 [00:06<00:07,  7.30it/s]"
          ]
        },
        {
          "name": "stdout",
          "output_type": "stream",
          "text": [
            "  Final score: 0.0\n",
            "Processing test example 476030...\n",
            "  Final score: 0.0\n",
            "Processing test example 418568...\n"
          ]
        },
        {
          "name": "stderr",
          "output_type": "stream",
          "text": [
            " 47%|████▋     | 47/100 [00:06<00:06,  7.59it/s]"
          ]
        },
        {
          "name": "stdout",
          "output_type": "stream",
          "text": [
            "  Final score: 0.0\n",
            "Processing test example 37191...\n"
          ]
        },
        {
          "name": "stderr",
          "output_type": "stream",
          "text": [
            " 49%|████▉     | 49/100 [00:06<00:07,  7.11it/s]"
          ]
        },
        {
          "name": "stdout",
          "output_type": "stream",
          "text": [
            "  Final score: 0.0\n",
            "Processing test example 345677...\n",
            "  Final score: 0.0\n",
            "Processing test example 382956...\n",
            "  Final score: 0.0\n",
            "Processing test example 174530...\n"
          ]
        },
        {
          "name": "stderr",
          "output_type": "stream",
          "text": [
            " 52%|█████▏    | 52/100 [00:07<00:06,  7.64it/s]"
          ]
        },
        {
          "name": "stdout",
          "output_type": "stream",
          "text": [
            "  Final score: 0.0\n",
            "Processing test example 107891...\n",
            "  Final score: 0.0\n",
            "Processing test example 227486...\n"
          ]
        },
        {
          "name": "stderr",
          "output_type": "stream",
          "text": [
            " 54%|█████▍    | 54/100 [00:07<00:05,  8.40it/s]"
          ]
        },
        {
          "name": "stdout",
          "output_type": "stream",
          "text": [
            "  Final score: 0.0\n",
            "Processing test example 355811...\n",
            "  Final score: 0.0\n",
            "Processing test example 42146...\n"
          ]
        },
        {
          "name": "stderr",
          "output_type": "stream",
          "text": [
            " 56%|█████▌    | 56/100 [00:07<00:05,  7.54it/s]"
          ]
        },
        {
          "name": "stdout",
          "output_type": "stream",
          "text": [
            "  Final score: 0.0\n",
            "Processing test example 210331...\n",
            "  Final score: 0.0\n",
            "Processing test example 189831...\n"
          ]
        },
        {
          "name": "stderr",
          "output_type": "stream",
          "text": [
            " 58%|█████▊    | 58/100 [00:07<00:04, 10.09it/s]"
          ]
        },
        {
          "name": "stdout",
          "output_type": "stream",
          "text": [
            "  Final score: 0.0\n",
            "Processing test example 141003...\n",
            "  Final score: 0.0\n",
            "Processing test example 316499...\n",
            "  Final score: 0.0\n",
            "Processing test example 409399...\n",
            "  Final score: 0.0\n"
          ]
        },
        {
          "name": "stderr",
          "output_type": "stream",
          "text": [
            " 60%|██████    | 60/100 [00:08<00:05,  7.25it/s]"
          ]
        },
        {
          "name": "stdout",
          "output_type": "stream",
          "text": [
            "Processing test example 313963...\n"
          ]
        },
        {
          "name": "stderr",
          "output_type": "stream",
          "text": [
            " 62%|██████▏   | 62/100 [00:08<00:05,  6.45it/s]"
          ]
        },
        {
          "name": "stdout",
          "output_type": "stream",
          "text": [
            "  Final score: 0.0\n",
            "Processing test example 1018...\n",
            "  Final score: 0.0\n",
            "Processing test example 131403...\n"
          ]
        },
        {
          "name": "stderr",
          "output_type": "stream",
          "text": [
            " 64%|██████▍   | 64/100 [00:08<00:05,  7.10it/s]"
          ]
        },
        {
          "name": "stdout",
          "output_type": "stream",
          "text": [
            "  Final score: 0.0\n",
            "Processing test example 139510...\n",
            "  Final score: 0.0\n",
            "Processing test example 487258...\n",
            "  Final score: 0.0\n",
            "Processing test example 5676...\n",
            "  Final score: 0.0\n"
          ]
        },
        {
          "name": "stderr",
          "output_type": "stream",
          "text": [
            " 68%|██████▊   | 68/100 [00:09<00:03,  9.15it/s]"
          ]
        },
        {
          "name": "stdout",
          "output_type": "stream",
          "text": [
            "Processing test example 465138...\n",
            "  Final score: 0.0\n",
            "Processing test example 263408...\n",
            "  Final score: 0.0\n",
            "Processing test example 365971...\n"
          ]
        },
        {
          "name": "stderr",
          "output_type": "stream",
          "text": [
            " 70%|███████   | 70/100 [00:09<00:03,  7.59it/s]"
          ]
        },
        {
          "name": "stdout",
          "output_type": "stream",
          "text": [
            "  Early stopping: repetitive actions\n",
            "  Final score: 0.0\n",
            "Processing test example 353385...\n",
            "  Final score: 0.0\n",
            "Processing test example 352528...\n"
          ]
        },
        {
          "name": "stderr",
          "output_type": "stream",
          "text": [
            " 71%|███████   | 71/100 [00:09<00:04,  6.85it/s]"
          ]
        },
        {
          "name": "stdout",
          "output_type": "stream",
          "text": [
            "  Early stopping: repetitive actions\n",
            "  Final score: 0.0\n",
            "Processing test example 215471...\n"
          ]
        },
        {
          "name": "stderr",
          "output_type": "stream",
          "text": [
            " 73%|███████▎  | 73/100 [00:10<00:04,  6.39it/s]"
          ]
        },
        {
          "name": "stdout",
          "output_type": "stream",
          "text": [
            "  Early stopping: repetitive actions\n",
            "  Final score: 0.0\n",
            "Processing test example 162133...\n",
            "  Final score: 0.0\n",
            "Processing test example 409187...\n"
          ]
        },
        {
          "name": "stderr",
          "output_type": "stream",
          "text": [
            " 75%|███████▌  | 75/100 [00:10<00:04,  5.81it/s]"
          ]
        },
        {
          "name": "stdout",
          "output_type": "stream",
          "text": [
            "  Final score: 0.0\n",
            "Processing test example 245219...\n",
            "  Final score: 0.0\n",
            "Processing test example 47847...\n"
          ]
        },
        {
          "name": "stderr",
          "output_type": "stream",
          "text": [
            " 77%|███████▋  | 77/100 [00:10<00:03,  6.38it/s]"
          ]
        },
        {
          "name": "stdout",
          "output_type": "stream",
          "text": [
            "  Final score: 0.0\n",
            "Processing test example 99537...\n",
            "  Final score: 0.0\n",
            "Processing test example 466496...\n"
          ]
        },
        {
          "name": "stderr",
          "output_type": "stream",
          "text": [
            " 79%|███████▉  | 79/100 [00:11<00:03,  6.81it/s]"
          ]
        },
        {
          "name": "stdout",
          "output_type": "stream",
          "text": [
            "  Final score: 0.0\n",
            "Processing test example 477802...\n",
            "  Final score: 0.0\n",
            "Processing test example 349221...\n"
          ]
        },
        {
          "name": "stderr",
          "output_type": "stream",
          "text": [
            " 81%|████████  | 81/100 [00:11<00:02,  6.50it/s]"
          ]
        },
        {
          "name": "stdout",
          "output_type": "stream",
          "text": [
            "  Final score: 0.0\n",
            "Processing test example 152867...\n",
            "  Final score: 0.0\n",
            "Processing test example 341383...\n"
          ]
        },
        {
          "name": "stderr",
          "output_type": "stream",
          "text": [
            " 82%|████████▏ | 82/100 [00:11<00:03,  5.49it/s]"
          ]
        },
        {
          "name": "stdout",
          "output_type": "stream",
          "text": [
            "  Final score: 0.0\n",
            "Processing test example 247811...\n",
            "  Final score: 0.0\n",
            "Processing test example 447522...\n",
            "  Final score: 0.0\n"
          ]
        },
        {
          "name": "stderr",
          "output_type": "stream",
          "text": [
            " 85%|████████▌ | 85/100 [00:12<00:02,  6.84it/s]"
          ]
        },
        {
          "name": "stdout",
          "output_type": "stream",
          "text": [
            "Processing test example 136207...\n",
            "  Final score: 0.0\n",
            "Processing test example 436488...\n"
          ]
        },
        {
          "name": "stderr",
          "output_type": "stream",
          "text": [
            " 87%|████████▋ | 87/100 [00:12<00:01,  9.21it/s]"
          ]
        },
        {
          "name": "stdout",
          "output_type": "stream",
          "text": [
            "  Final score: 0.0\n",
            "Processing test example 212175...\n",
            "  Final score: 0.0\n",
            "Processing test example 344560...\n",
            "  Final score: 0.0\n",
            "Processing test example 434912...\n",
            "  Final score: 0.0\n"
          ]
        },
        {
          "name": "stderr",
          "output_type": "stream",
          "text": [
            " 91%|█████████ | 91/100 [00:12<00:00, 11.46it/s]"
          ]
        },
        {
          "name": "stdout",
          "output_type": "stream",
          "text": [
            "Processing test example 163983...\n",
            "  Final score: 0.0\n",
            "Processing test example 28441...\n",
            "  Final score: 0.0\n",
            "Processing test example 102040...\n"
          ]
        },
        {
          "name": "stderr",
          "output_type": "stream",
          "text": [
            " 93%|█████████▎| 93/100 [00:12<00:00, 10.88it/s]"
          ]
        },
        {
          "name": "stdout",
          "output_type": "stream",
          "text": [
            "  Final score: 0.0\n",
            "Processing test example 452190...\n",
            "  Final score: 0.0\n",
            "Processing test example 7935...\n"
          ]
        },
        {
          "name": "stderr",
          "output_type": "stream",
          "text": [
            " 95%|█████████▌| 95/100 [00:12<00:00,  9.88it/s]"
          ]
        },
        {
          "name": "stdout",
          "output_type": "stream",
          "text": [
            "  Early stopping: repetitive actions\n",
            "  Final score: 0.0\n",
            "Processing test example 459759...\n",
            "  Final score: 0.0\n",
            "Processing test example 465113...\n",
            "  Final score: 0.0\n",
            "Processing test example 216512...\n"
          ]
        },
        {
          "name": "stderr",
          "output_type": "stream",
          "text": [
            " 99%|█████████▉| 99/100 [00:13<00:00,  9.41it/s]"
          ]
        },
        {
          "name": "stdout",
          "output_type": "stream",
          "text": [
            "  Final score: 0.0\n",
            "Processing test example 143380...\n",
            "  Final score: 0.0\n",
            "Processing test example 446821...\n",
            "  Final score: 0.0\n",
            "Processing test example 121381...\n"
          ]
        },
        {
          "name": "stderr",
          "output_type": "stream",
          "text": [
            "100%|██████████| 100/100 [00:13<00:00,  7.36it/s]"
          ]
        },
        {
          "name": "stdout",
          "output_type": "stream",
          "text": [
            "  Final score: 0.0\n",
            "\n",
            "Done! Summary of predictions:\n",
            "Average score: 0.00\n",
            "Maximum score: 0.00\n",
            "Number of solutions: 100\n",
            "Non-zero scores: 0\n",
            "\n",
            "Sample of predictions:\n",
            "Example 0: Score = 0.0\n",
            "  Steps: []\n",
            "Example 1: Score = 0.0\n",
            "  Steps: []\n",
            "Example 2: Score = 0.0\n",
            "  Steps: []\n"
          ]
        },
        {
          "name": "stderr",
          "output_type": "stream",
          "text": [
            "\n"
          ]
        },
        {
          "ename": "ValueError",
          "evalue": "Invalid filepath extension for saving. Please add either a `.keras` extension for the native Keras format (recommended) or a `.h5` extension. Use `tf.saved_model.save()` if you want to export a SavedModel for use with TFLite/TFServing/etc. Received: filepath=msa_rl_model.",
          "output_type": "error",
          "traceback": [
            "\u001b[1;31m---------------------------------------------------------------------------\u001b[0m",
            "\u001b[1;31mValueError\u001b[0m                                Traceback (most recent call last)",
            "Cell \u001b[1;32mIn[43], line 3\u001b[0m\n\u001b[0;32m      1\u001b[0m \u001b[38;5;28;01mif\u001b[39;00m \u001b[38;5;18m__name__\u001b[39m \u001b[38;5;241m==\u001b[39m \u001b[38;5;124m\"\u001b[39m\u001b[38;5;124m__main__\u001b[39m\u001b[38;5;124m\"\u001b[39m:\n\u001b[0;32m      2\u001b[0m     \u001b[38;5;66;03m# Run the main function\u001b[39;00m\n\u001b[1;32m----> 3\u001b[0m     test_df, agent, scores \u001b[38;5;241m=\u001b[39m \u001b[43mmain\u001b[49m\u001b[43m(\u001b[49m\u001b[43m)\u001b[49m\n",
            "Cell \u001b[1;32mIn[42], line 87\u001b[0m, in \u001b[0;36mmain\u001b[1;34m()\u001b[0m\n\u001b[0;32m     84\u001b[0m preprocessed_test\u001b[38;5;241m.\u001b[39mto_pickle(\u001b[38;5;124m'\u001b[39m\u001b[38;5;124mtest_with_solutions.pkl\u001b[39m\u001b[38;5;124m'\u001b[39m)\n\u001b[0;32m     86\u001b[0m \u001b[38;5;66;03m# Save model\u001b[39;00m\n\u001b[1;32m---> 87\u001b[0m \u001b[43magent\u001b[49m\u001b[38;5;241;43m.\u001b[39;49m\u001b[43mmodel\u001b[49m\u001b[38;5;241;43m.\u001b[39;49m\u001b[43msave\u001b[49m\u001b[43m(\u001b[49m\u001b[38;5;124;43m'\u001b[39;49m\u001b[38;5;124;43mmsa_rl_model\u001b[39;49m\u001b[38;5;124;43m'\u001b[39;49m\u001b[43m)\u001b[49m\n\u001b[0;32m     89\u001b[0m \u001b[38;5;66;03m# Return test dataframe with solutions\u001b[39;00m\n\u001b[0;32m     90\u001b[0m \u001b[38;5;28;01mreturn\u001b[39;00m preprocessed_test, agent, scores\n",
            "File \u001b[1;32m~\\AppData\\Local\\Packages\\PythonSoftwareFoundation.Python.3.10_qbz5n2kfra8p0\\LocalCache\\local-packages\\Python310\\site-packages\\keras\\src\\utils\\traceback_utils.py:123\u001b[0m, in \u001b[0;36mfilter_traceback.<locals>.error_handler\u001b[1;34m(*args, **kwargs)\u001b[0m\n\u001b[0;32m    120\u001b[0m     filtered_tb \u001b[38;5;241m=\u001b[39m _process_traceback_frames(e\u001b[38;5;241m.\u001b[39m__traceback__)\n\u001b[0;32m    121\u001b[0m     \u001b[38;5;66;03m# To get the full stack trace, call:\u001b[39;00m\n\u001b[0;32m    122\u001b[0m     \u001b[38;5;66;03m# `keras.config.disable_traceback_filtering()`\u001b[39;00m\n\u001b[1;32m--> 123\u001b[0m     \u001b[38;5;28;01mraise\u001b[39;00m e\u001b[38;5;241m.\u001b[39mwith_traceback(filtered_tb) \u001b[38;5;28;01mfrom\u001b[39;00m \u001b[38;5;28;01mNone\u001b[39;00m\n\u001b[0;32m    124\u001b[0m \u001b[38;5;28;01mfinally\u001b[39;00m:\n\u001b[0;32m    125\u001b[0m     \u001b[38;5;28;01mdel\u001b[39;00m filtered_tb\n",
            "File \u001b[1;32m~\\AppData\\Local\\Packages\\PythonSoftwareFoundation.Python.3.10_qbz5n2kfra8p0\\LocalCache\\local-packages\\Python310\\site-packages\\keras\\src\\saving\\saving_api.py:106\u001b[0m, in \u001b[0;36msave_model\u001b[1;34m(model, filepath, overwrite, **kwargs)\u001b[0m\n\u001b[0;32m    102\u001b[0m     legacy_h5_format\u001b[38;5;241m.\u001b[39msave_model_to_hdf5(\n\u001b[0;32m    103\u001b[0m         model, filepath, overwrite, include_optimizer\n\u001b[0;32m    104\u001b[0m     )\n\u001b[0;32m    105\u001b[0m \u001b[38;5;28;01melse\u001b[39;00m:\n\u001b[1;32m--> 106\u001b[0m     \u001b[38;5;28;01mraise\u001b[39;00m \u001b[38;5;167;01mValueError\u001b[39;00m(\n\u001b[0;32m    107\u001b[0m         \u001b[38;5;124m\"\u001b[39m\u001b[38;5;124mInvalid filepath extension for saving. \u001b[39m\u001b[38;5;124m\"\u001b[39m\n\u001b[0;32m    108\u001b[0m         \u001b[38;5;124m\"\u001b[39m\u001b[38;5;124mPlease add either a `.keras` extension for the native Keras \u001b[39m\u001b[38;5;124m\"\u001b[39m\n\u001b[0;32m    109\u001b[0m         \u001b[38;5;124mf\u001b[39m\u001b[38;5;124m\"\u001b[39m\u001b[38;5;124mformat (recommended) or a `.h5` extension. \u001b[39m\u001b[38;5;124m\"\u001b[39m\n\u001b[0;32m    110\u001b[0m         \u001b[38;5;124m\"\u001b[39m\u001b[38;5;124mUse `tf.saved_model.save()` if you want to export a SavedModel \u001b[39m\u001b[38;5;124m\"\u001b[39m\n\u001b[0;32m    111\u001b[0m         \u001b[38;5;124m\"\u001b[39m\u001b[38;5;124mfor use with TFLite/TFServing/etc. \u001b[39m\u001b[38;5;124m\"\u001b[39m\n\u001b[0;32m    112\u001b[0m         \u001b[38;5;124mf\u001b[39m\u001b[38;5;124m\"\u001b[39m\u001b[38;5;124mReceived: filepath=\u001b[39m\u001b[38;5;132;01m{\u001b[39;00mfilepath\u001b[38;5;132;01m}\u001b[39;00m\u001b[38;5;124m.\u001b[39m\u001b[38;5;124m\"\u001b[39m\n\u001b[0;32m    113\u001b[0m     )\n",
            "\u001b[1;31mValueError\u001b[0m: Invalid filepath extension for saving. Please add either a `.keras` extension for the native Keras format (recommended) or a `.h5` extension. Use `tf.saved_model.save()` if you want to export a SavedModel for use with TFLite/TFServing/etc. Received: filepath=msa_rl_model."
          ]
        }
      ],
      "source": [
        "if __name__ == \"__main__\":\n",
        "    # Run the main function\n",
        "    test_df, agent, scores = main()"
      ]
    }
  ],
  "metadata": {
    "colab": {
      "gpuType": "T4",
      "provenance": []
    },
    "kernelspec": {
      "display_name": "Python 3",
      "name": "python3"
    },
    "language_info": {
      "codemirror_mode": {
        "name": "ipython",
        "version": 3
      },
      "file_extension": ".py",
      "mimetype": "text/x-python",
      "name": "python",
      "nbconvert_exporter": "python",
      "pygments_lexer": "ipython3",
      "version": "3.10.11"
    }
  },
  "nbformat": 4,
  "nbformat_minor": 0
}
